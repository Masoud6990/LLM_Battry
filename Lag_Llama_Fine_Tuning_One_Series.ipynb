{
  "cells": [
    {
      "cell_type": "markdown",
      "id": "11bde39e-dfcb-47df-b15f-4abe83cf9431",
      "metadata": {
        "id": "11bde39e-dfcb-47df-b15f-4abe83cf9431"
      },
      "source": [
        "# Lag-Llama Fine Tuning\n",
        "\n",
        "## Prepare the repository\n",
        "\n",
        "We first clone and install the required packages from the [GitHub repository](https://github.com/time-series-foundation-models/lag-llama/) that has the Lag-Llama architecture."
      ]
    },
    {
      "cell_type": "code",
      "execution_count": 1,
      "id": "f314d613-aac8-499f-a632-3a9062e1293e",
      "metadata": {
        "colab": {
          "base_uri": "https://localhost:8080/"
        },
        "id": "f314d613-aac8-499f-a632-3a9062e1293e",
        "outputId": "8a5855b0-4695-448c-d5e4-a83982fe8b04"
      },
      "outputs": [
        {
          "output_type": "stream",
          "name": "stdout",
          "text": [
            "Cloning into 'lag-llama'...\n",
            "remote: Enumerating objects: 505, done.\u001b[K\n",
            "remote: Counting objects: 100% (191/191), done.\u001b[K\n",
            "remote: Compressing objects: 100% (83/83), done.\u001b[K\n",
            "remote: Total 505 (delta 153), reused 108 (delta 108), pack-reused 314 (from 3)\u001b[K\n",
            "Receiving objects: 100% (505/505), 283.34 KiB | 1.20 MiB/s, done.\n",
            "Resolving deltas: 100% (252/252), done.\n"
          ]
        }
      ],
      "source": [
        "!git clone -b update-gluonts https://github.com/time-series-foundation-models/lag-llama/"
      ]
    },
    {
      "cell_type": "code",
      "execution_count": 43,
      "id": "9b3a4589-1ff7-46b3-8ad3-b2c2bc998183",
      "metadata": {
        "colab": {
          "base_uri": "https://localhost:8080/"
        },
        "id": "9b3a4589-1ff7-46b3-8ad3-b2c2bc998183",
        "outputId": "fddd9a83-580a-4956-ef2f-3bb34ead3dd6"
      },
      "outputs": [
        {
          "output_type": "stream",
          "name": "stdout",
          "text": [
            "/content/lag-llama\n"
          ]
        }
      ],
      "source": [
        "cd /content/lag-llama"
      ]
    },
    {
      "cell_type": "code",
      "source": [
        "!pip uninstall jax jaxlib tensorboard -y"
      ],
      "metadata": {
        "colab": {
          "base_uri": "https://localhost:8080/"
        },
        "id": "dMPlOs3HhyYO",
        "outputId": "7c23e723-f46b-4051-e5a1-ad7673bd270f"
      },
      "id": "dMPlOs3HhyYO",
      "execution_count": 3,
      "outputs": [
        {
          "output_type": "stream",
          "name": "stdout",
          "text": [
            "Found existing installation: jax 0.5.2\n",
            "Uninstalling jax-0.5.2:\n",
            "  Successfully uninstalled jax-0.5.2\n",
            "Found existing installation: jaxlib 0.5.1\n",
            "Uninstalling jaxlib-0.5.1:\n",
            "  Successfully uninstalled jaxlib-0.5.1\n",
            "Found existing installation: tensorboard 2.18.0\n",
            "Uninstalling tensorboard-2.18.0:\n",
            "  Successfully uninstalled tensorboard-2.18.0\n"
          ]
        }
      ]
    },
    {
      "cell_type": "code",
      "execution_count": 4,
      "id": "1cb4157e-a745-4938-b8c8-06eeeb57eeaa",
      "metadata": {
        "colab": {
          "base_uri": "https://localhost:8080/"
        },
        "id": "1cb4157e-a745-4938-b8c8-06eeeb57eeaa",
        "outputId": "c4d76b48-f685-457c-f265-fdb71f24d381"
      },
      "outputs": [
        {
          "output_type": "stream",
          "name": "stdout",
          "text": [
            "\u001b[?25l   \u001b[90m━━━━━━━━━━━━━━━━━━━━━━━━━━━━━━━━━━━━━━━━\u001b[0m \u001b[32m0.0/67.7 kB\u001b[0m \u001b[31m?\u001b[0m eta \u001b[36m-:--:--\u001b[0m\r\u001b[2K   \u001b[90m━━━━━━━━━━━━━━━━━━━━━━━━━━━━━━━━━━━━━━━━\u001b[0m \u001b[32m67.7/67.7 kB\u001b[0m \u001b[31m3.7 MB/s\u001b[0m eta \u001b[36m0:00:00\u001b[0m\n",
            "\u001b[2K   \u001b[90m━━━━━━━━━━━━━━━━━━━━━━━━━━━━━━━━━━━━━━━━\u001b[0m \u001b[32m8.6/8.6 MB\u001b[0m \u001b[31m66.5 MB/s\u001b[0m eta \u001b[36m0:00:00\u001b[0m\n",
            "\u001b[2K   \u001b[90m━━━━━━━━━━━━━━━━━━━━━━━━━━━━━━━━━━━━━━━━\u001b[0m \u001b[32m811.0/811.0 kB\u001b[0m \u001b[31m41.9 MB/s\u001b[0m eta \u001b[36m0:00:00\u001b[0m\n",
            "\u001b[2K   \u001b[90m━━━━━━━━━━━━━━━━━━━━━━━━━━━━━━━━━━━━━━━━\u001b[0m \u001b[32m815.2/815.2 kB\u001b[0m \u001b[31m28.7 MB/s\u001b[0m eta \u001b[36m0:00:00\u001b[0m\n",
            "\u001b[2K   \u001b[90m━━━━━━━━━━━━━━━━━━━━━━━━━━━━━━━━━━━━━━━━\u001b[0m \u001b[32m363.4/363.4 MB\u001b[0m \u001b[31m4.0 MB/s\u001b[0m eta \u001b[36m0:00:00\u001b[0m\n",
            "\u001b[2K   \u001b[90m━━━━━━━━━━━━━━━━━━━━━━━━━━━━━━━━━━━━━━━━\u001b[0m \u001b[32m13.8/13.8 MB\u001b[0m \u001b[31m72.5 MB/s\u001b[0m eta \u001b[36m0:00:00\u001b[0m\n",
            "\u001b[2K   \u001b[90m━━━━━━━━━━━━━━━━━━━━━━━━━━━━━━━━━━━━━━━━\u001b[0m \u001b[32m24.6/24.6 MB\u001b[0m \u001b[31m56.9 MB/s\u001b[0m eta \u001b[36m0:00:00\u001b[0m\n",
            "\u001b[2K   \u001b[90m━━━━━━━━━━━━━━━━━━━━━━━━━━━━━━━━━━━━━━━━\u001b[0m \u001b[32m883.7/883.7 kB\u001b[0m \u001b[31m53.1 MB/s\u001b[0m eta \u001b[36m0:00:00\u001b[0m\n",
            "\u001b[2K   \u001b[90m━━━━━━━━━━━━━━━━━━━━━━━━━━━━━━━━━━━━━━━━\u001b[0m \u001b[32m664.8/664.8 MB\u001b[0m \u001b[31m1.6 MB/s\u001b[0m eta \u001b[36m0:00:00\u001b[0m\n",
            "\u001b[2K   \u001b[90m━━━━━━━━━━━━━━━━━━━━━━━━━━━━━━━━━━━━━━━━\u001b[0m \u001b[32m211.5/211.5 MB\u001b[0m \u001b[31m5.5 MB/s\u001b[0m eta \u001b[36m0:00:00\u001b[0m\n",
            "\u001b[2K   \u001b[90m━━━━━━━━━━━━━━━━━━━━━━━━━━━━━━━━━━━━━━━━\u001b[0m \u001b[32m56.3/56.3 MB\u001b[0m \u001b[31m17.7 MB/s\u001b[0m eta \u001b[36m0:00:00\u001b[0m\n",
            "\u001b[2K   \u001b[90m━━━━━━━━━━━━━━━━━━━━━━━━━━━━━━━━━━━━━━━━\u001b[0m \u001b[32m127.9/127.9 MB\u001b[0m \u001b[31m7.4 MB/s\u001b[0m eta \u001b[36m0:00:00\u001b[0m\n",
            "\u001b[2K   \u001b[90m━━━━━━━━━━━━━━━━━━━━━━━━━━━━━━━━━━━━━━━━\u001b[0m \u001b[32m207.5/207.5 MB\u001b[0m \u001b[31m5.7 MB/s\u001b[0m eta \u001b[36m0:00:00\u001b[0m\n",
            "\u001b[2K   \u001b[90m━━━━━━━━━━━━━━━━━━━━━━━━━━━━━━━━━━━━━━━━\u001b[0m \u001b[32m21.1/21.1 MB\u001b[0m \u001b[31m66.0 MB/s\u001b[0m eta \u001b[36m0:00:00\u001b[0m\n",
            "\u001b[2K   \u001b[90m━━━━━━━━━━━━━━━━━━━━━━━━━━━━━━━━━━━━━━━━\u001b[0m \u001b[32m1.5/1.5 MB\u001b[0m \u001b[31m66.8 MB/s\u001b[0m eta \u001b[36m0:00:00\u001b[0m\n",
            "\u001b[2K   \u001b[90m━━━━━━━━━━━━━━━━━━━━━━━━━━━━━━━━━━━━━━━━\u001b[0m \u001b[32m961.5/961.5 kB\u001b[0m \u001b[31m51.1 MB/s\u001b[0m eta \u001b[36m0:00:00\u001b[0m\n",
            "\u001b[?25h"
          ]
        }
      ],
      "source": [
        "!pip install -U -r requirements.txt --quiet"
      ]
    },
    {
      "cell_type": "markdown",
      "id": "9bdcf8e7-b6f7-4e85-be59-cc6258e6c3b2",
      "metadata": {
        "id": "9bdcf8e7-b6f7-4e85-be59-cc6258e6c3b2"
      },
      "source": [
        "We then download our pretrained model weights from [HuggingFace](https://huggingface.co/time-series-foundation-models/Lag-Llama) 🤗"
      ]
    },
    {
      "cell_type": "code",
      "execution_count": 5,
      "id": "80c5f8e7-3687-4f4c-8e42-2d84882845e1",
      "metadata": {
        "colab": {
          "base_uri": "https://localhost:8080/"
        },
        "id": "80c5f8e7-3687-4f4c-8e42-2d84882845e1",
        "outputId": "7cf8d1f9-f28e-4c55-a5d0-6cda5104e6c2"
      },
      "outputs": [
        {
          "output_type": "stream",
          "name": "stdout",
          "text": [
            "Downloading 'lag-llama.ckpt' to '/content/lag-llama/.cache/huggingface/download/59Iq1KnnyJzBevZl6u7vR_lVuAs=.b5a5c4b8a0cfe9b81bdac35ed5d88b5033cd119b5206c28e9cd67c4b45fb2c96.incomplete'\n",
            "lag-llama.ckpt: 100% 29.5M/29.5M [00:00<00:00, 192MB/s]\n",
            "Download complete. Moving file to /content/lag-llama/lag-llama.ckpt\n",
            "/content/lag-llama/lag-llama.ckpt\n"
          ]
        }
      ],
      "source": [
        "!huggingface-cli download time-series-foundation-models/Lag-Llama lag-llama.ckpt --local-dir /content/lag-llama"
      ]
    },
    {
      "cell_type": "markdown",
      "id": "7c2ea0b9-4b10-4a8a-a973-f8a53c4993e3",
      "metadata": {
        "id": "7c2ea0b9-4b10-4a8a-a973-f8a53c4993e3"
      },
      "source": [
        "## Imports\n",
        "\n",
        "We import the required packages and the lag llama estimator object which we can use to make predictions."
      ]
    },
    {
      "cell_type": "code",
      "execution_count": 6,
      "id": "12626ee4-7175-4854-8701-7cc6a4f514d8",
      "metadata": {
        "colab": {
          "base_uri": "https://localhost:8080/"
        },
        "id": "12626ee4-7175-4854-8701-7cc6a4f514d8",
        "outputId": "f227cf4a-3af2-4897-da86-c2065d27a1a8"
      },
      "outputs": [
        {
          "output_type": "stream",
          "name": "stderr",
          "text": [
            "<ipython-input-6-3749d135369e>:5: TqdmExperimentalWarning: Using `tqdm.autonotebook.tqdm` in notebook mode. Use `tqdm.tqdm` instead to force console mode (e.g. in jupyter console)\n",
            "  from tqdm.autonotebook import tqdm\n"
          ]
        }
      ],
      "source": [
        "from itertools import islice\n",
        "\n",
        "from matplotlib import pyplot as plt\n",
        "import matplotlib.dates as mdates\n",
        "from tqdm.autonotebook import tqdm\n",
        "\n",
        "import torch\n",
        "from gluonts.evaluation import make_evaluation_predictions, Evaluator\n",
        "from gluonts.dataset.repository.datasets import get_dataset\n",
        "\n",
        "from gluonts.dataset.pandas import PandasDataset\n",
        "import pandas as pd\n",
        "\n",
        "from lag_llama.gluon.estimator import LagLlamaEstimator"
      ]
    },
    {
      "cell_type": "code",
      "source": [
        "import sys\n",
        "from types import ModuleType\n",
        "\n",
        "# Create dummy module hierarchy\n",
        "def create_dummy_module(module_path):\n",
        "    \"\"\"\n",
        "    Create a dummy module hierarchy for the given path.\n",
        "    Returns the leaf module.\n",
        "    \"\"\"\n",
        "    parts = module_path.split('.')\n",
        "    current = ''\n",
        "    parent = None\n",
        "\n",
        "    for part in parts:\n",
        "        current = current + '.' + part if current else part\n",
        "        if current not in sys.modules:\n",
        "            module = ModuleType(current)\n",
        "            sys.modules[current] = module\n",
        "            if parent:\n",
        "                setattr(sys.modules[parent], part, module)\n",
        "        parent = current\n",
        "\n",
        "    return sys.modules[module_path]\n",
        "\n",
        "# Create the dummy gluonts module hierarchy\n",
        "gluonts_module = create_dummy_module('gluonts.torch.modules.loss')\n",
        "\n",
        "# Create dummy classes for the specific loss functions\n",
        "class DistributionLoss:\n",
        "    def __init__(self, *args, **kwargs):\n",
        "        pass\n",
        "\n",
        "    def __call__(self, *args, **kwargs):\n",
        "        return 0.0\n",
        "\n",
        "    def __getattr__(self, name):\n",
        "        return lambda *args, **kwargs: None\n",
        "\n",
        "class NegativeLogLikelihood:\n",
        "    def __init__(self, *args, **kwargs):\n",
        "        pass\n",
        "\n",
        "    def __call__(self, *args, **kwargs):\n",
        "        return 0.0\n",
        "\n",
        "    def __getattr__(self, name):\n",
        "        return lambda *args, **kwargs: None\n",
        "\n",
        "# Add the specific classes to the module\n",
        "gluonts_module.DistributionLoss = DistributionLoss\n",
        "gluonts_module.NegativeLogLikelihood = NegativeLogLikelihood"
      ],
      "metadata": {
        "id": "GZmoFdvAevcA"
      },
      "id": "GZmoFdvAevcA",
      "execution_count": 7,
      "outputs": []
    },
    {
      "cell_type": "markdown",
      "id": "19313809-514c-4eca-8bd2-7de76393bda5",
      "metadata": {
        "id": "19313809-514c-4eca-8bd2-7de76393bda5"
      },
      "source": [
        "We create a function for Lag-Llama inference that we can reuse. This function returns the predictions for the given prediction horizon. The forecast will be of shape (num_samples, prediction_length), where `num_samples` is the number of samples sampled from the predicted probability distribution for each timestep."
      ]
    },
    {
      "cell_type": "code",
      "execution_count": 8,
      "id": "e4c2405a-be1c-4f7d-b598-580c974a68fb",
      "metadata": {
        "id": "e4c2405a-be1c-4f7d-b598-580c974a68fb"
      },
      "outputs": [],
      "source": [
        "def get_lag_llama_predictions(dataset, prediction_length, context_length=32, num_samples=20, device=\"cuda\", batch_size=64, nonnegative_pred_samples=True):\n",
        "    ckpt = torch.load(\"lag-llama.ckpt\", map_location=device, weights_only=False)\n",
        "    estimator_args = ckpt[\"hyper_parameters\"][\"model_kwargs\"]\n",
        "\n",
        "    estimator = LagLlamaEstimator(\n",
        "        ckpt_path=\"lag-llama.ckpt\",\n",
        "        prediction_length=prediction_length,\n",
        "        context_length=context_length,\n",
        "\n",
        "        # estimator args\n",
        "        input_size=estimator_args[\"input_size\"],\n",
        "        n_layer=estimator_args[\"n_layer\"],\n",
        "        n_embd_per_head=estimator_args[\"n_embd_per_head\"],\n",
        "        n_head=estimator_args[\"n_head\"],\n",
        "        scaling=estimator_args[\"scaling\"],\n",
        "        time_feat=estimator_args[\"time_feat\"],\n",
        "\n",
        "        nonnegative_pred_samples=nonnegative_pred_samples,\n",
        "\n",
        "        # linear positional encoding scaling\n",
        "        rope_scaling={\n",
        "            \"type\": \"linear\",\n",
        "            \"factor\": max(1.0, (context_length + prediction_length) / estimator_args[\"context_length\"]),\n",
        "        },\n",
        "\n",
        "        batch_size=batch_size,\n",
        "        num_parallel_samples=num_samples,\n",
        "    )\n",
        "\n",
        "    lightning_module = estimator.create_lightning_module()\n",
        "    transformation = estimator.create_transformation()\n",
        "    predictor = estimator.create_predictor(transformation, lightning_module)\n",
        "\n",
        "    forecast_it, ts_it = make_evaluation_predictions(\n",
        "        dataset=dataset,\n",
        "        predictor=predictor,\n",
        "        num_samples=num_samples\n",
        "    )\n",
        "    forecasts = list(tqdm(forecast_it, total=len(dataset), desc=\"Forecasting batches\"))\n",
        "    tss = list(tqdm(ts_it, total=len(dataset), desc=\"Ground truth\"))\n",
        "\n",
        "    return forecasts, tss"
      ]
    },
    {
      "cell_type": "markdown",
      "id": "06b5531e-8ad3-4465-b400-33465eff0340",
      "metadata": {
        "id": "06b5531e-8ad3-4465-b400-33465eff0340"
      },
      "source": [
        "## Zero Shot on `M4-Weekly`"
      ]
    },
    {
      "cell_type": "code",
      "execution_count": 9,
      "id": "00b11831-ea61-4dd8-a021-1cb10a1b4be6",
      "metadata": {
        "id": "00b11831-ea61-4dd8-a021-1cb10a1b4be6"
      },
      "outputs": [],
      "source": [
        "dataset = get_dataset(\"m4_weekly\")"
      ]
    },
    {
      "cell_type": "code",
      "source": [
        "print(dataset.metadata.prediction_length)"
      ],
      "metadata": {
        "colab": {
          "base_uri": "https://localhost:8080/"
        },
        "id": "IOzRGtcVoZ62",
        "outputId": "8f32ddf9-b075-45da-f340-2b5c91c848f2"
      },
      "id": "IOzRGtcVoZ62",
      "execution_count": 20,
      "outputs": [
        {
          "output_type": "stream",
          "name": "stdout",
          "text": [
            "13\n"
          ]
        }
      ]
    },
    {
      "cell_type": "code",
      "execution_count": 11,
      "id": "b687e442-26b4-443e-b74a-19e8810d0836",
      "metadata": {
        "id": "b687e442-26b4-443e-b74a-19e8810d0836"
      },
      "outputs": [],
      "source": [
        "prediction_length = dataset.metadata.prediction_length\n",
        "context_length = prediction_length*3\n",
        "num_samples = 20\n",
        "device = \"cuda\""
      ]
    },
    {
      "source": [
        "# prompt: load dataset into pandas dataframe\n",
        "\n",
        "# Convert the integer index to a DatetimeIndex with a dummy start date and frequency.\n",
        "# We are doing this because infer_freq is unable to determine the freq from integer values\n",
        "# This approach does not support uneven timestamps in the original dataset.\n",
        "train_df = pd.DataFrame(dataset.train)\n",
        "\n",
        "test_df = pd.DataFrame(dataset.test)\n"
      ],
      "cell_type": "code",
      "metadata": {
        "id": "27Va3m-sl5U5"
      },
      "id": "27Va3m-sl5U5",
      "execution_count": 16,
      "outputs": []
    },
    {
      "cell_type": "code",
      "source": [
        "dataset.train"
      ],
      "metadata": {
        "colab": {
          "base_uri": "https://localhost:8080/"
        },
        "id": "465cJtMeom3n",
        "outputId": "8ceb4744-6ec1-414b-fe6b-cee9f5da7df2"
      },
      "id": "465cJtMeom3n",
      "execution_count": 41,
      "outputs": [
        {
          "output_type": "execute_result",
          "data": {
            "text/plain": [
              "Map(fn=<gluonts.dataset.common.ProcessDataEntry object at 0x78c017cd31d0>, iterable=JsonLinesFile(path=PosixPath('/root/.gluonts/datasets/m4_weekly/train/data.json.gz'), start=0, n=None, line_starts=[np.int16(0), np.int16(17705), np.int16(31710), np.int16(-18807), np.int16(832), np.int16(12140), np.int16(22512), np.int16(-31577), np.int16(-20119), np.int16(-8144), np.int16(-1096), np.int16(6044), np.int16(9293), np.int16(15497), np.int16(21675), np.int16(26900), np.int16(32125), np.int16(-27521), np.int16(-22065), np.int16(-10621), np.int16(675), np.int16(11983), np.int16(23420), np.int16(-31661), np.int16(-19853), np.int16(-8615), np.int16(2887), np.int16(14184), np.int16(25604), np.int16(-28844), np.int16(-17526), np.int16(-6673), np.int16(4806), np.int16(16106), np.int16(27244), np.int16(-27049), np.int16(-20233), np.int16(-16591), np.int16(-12861), np.int16(-1850), np.int16(9378), np.int16(17286), np.int16(25174), np.int16(-32029), np.int16(-21029), np.int16(-10941), np.int16(-2293), np.int16(7800), np.int16(18672), np.int16(26690), np.int16(-30841), np.int16(-23594), np.int16(-16309), np.int16(-7773), np.int16(-1874), np.int16(9549), np.int16(17477), np.int16(20099), np.int16(24805), np.int16(27284), np.int16(-19415), np.int16(-7902), np.int16(7217), np.int16(22336), np.int16(-27716), np.int16(-12111), np.int16(2024), np.int16(11359), np.int16(16557), np.int16(20623), np.int16(24526), np.int16(28110), np.int16(31694), np.int16(-30258), np.int16(-25033), np.int16(-19766), np.int16(-17976), np.int16(-12635), np.int16(-7285), np.int16(-2171), np.int16(2943), np.int16(8216), np.int16(19373), np.int16(22836), np.int16(26299), np.int16(31636), np.int16(-28563), np.int16(-25489), np.int16(-7317), np.int16(1017), np.int16(10012), np.int16(29440), np.int16(-17738), np.int16(-11942), np.int16(-9687), np.int16(-7434), np.int16(12766), np.int16(30087), np.int16(-17856), np.int16(979), np.int16(19601), np.int16(23049), np.int16(-23529), np.int16(-5919), np.int16(-2842), np.int16(14967), np.int16(20763), np.int16(-26086), np.int16(-4790), np.int16(16410), np.int16(19489), np.int16(22565), np.int16(-24935), np.int16(-16797), np.int16(-8186), np.int16(10939), np.int16(29021), np.int16(-29732), np.int16(-23937), np.int16(-21696), np.int16(-19533), np.int16(497), np.int16(17693), np.int16(-30549), np.int16(-12345), np.int16(6205), np.int16(9659), np.int16(27750), np.int16(-20770), np.int16(-17704), np.int16(89), np.int16(5893), np.int16(24571), np.int16(-19806), np.int16(1093), np.int16(4165), np.int16(6899), np.int16(21600), np.int16(30638), np.int16(-25472), np.int16(-10584), np.int16(4278), np.int16(11904), np.int16(21731), np.int16(29675), np.int16(-28131), np.int16(-11791), np.int16(2186), np.int16(16513), np.int16(31216), np.int16(-19810), np.int16(-3473), np.int16(11244), np.int16(25276), np.int16(-31390), np.int16(-22107), np.int16(-7411), np.int16(2531), np.int16(17578), np.int16(-31609), np.int16(-15285), np.int16(-5813), np.int16(3518), np.int16(6252), np.int16(20016), np.int16(28872), np.int16(-27333), np.int16(-12755), np.int16(736), np.int16(7864), np.int16(21932), np.int16(27744), np.int16(-16485), np.int16(-11192), np.int16(-7745), np.int16(7763), np.int16(21675), np.int16(-30750), np.int16(-27703), np.int16(-13826), np.int16(-8025), np.int16(6670), np.int16(9687), np.int16(24370), np.int16(-25415), np.int16(-9721), np.int16(-6271), np.int16(-473), np.int16(5376), np.int16(11132), np.int16(21457), np.int16(30371), np.int16(-25312), np.int16(-16515), np.int16(-6823), np.int16(2533), np.int16(11108), np.int16(20896), np.int16(30583), np.int16(-25186), np.int16(-16055), np.int16(-10307), np.int16(-4458), np.int16(1391), np.int16(10558), np.int16(18049), np.int16(24240), np.int16(30703), np.int16(-27899), np.int16(-20694), np.int16(-13258), np.int16(-6213), np.int16(1299), np.int16(7943), np.int16(14187), np.int16(21639), np.int16(29098), np.int16(32611), np.int16(-29301), np.int16(-25208), np.int16(-22103), np.int16(-14413), np.int16(-6723), np.int16(1653), np.int16(22775), np.int16(-31466), np.int16(-20141), np.int16(-8848), np.int16(2845), np.int16(14704), np.int16(26140), np.int16(-28554), np.int16(-17208), np.int16(-5915), np.int16(5382), np.int16(16115), np.int16(27411), np.int16(-26823), np.int16(-16413), np.int16(-4703), np.int16(6647), np.int16(19358), np.int16(30670), np.int16(-23434), np.int16(-12648), np.int16(-1346), np.int16(9935), np.int16(21492), np.int16(-28473), np.int16(-12602), np.int16(1798), np.int16(15226), np.int16(29687), np.int16(-22436), np.int16(-13178), np.int16(-8264), np.int16(-3399), np.int16(1729), np.int16(6857), np.int16(12143), np.int16(17085), np.int16(22213), np.int16(28399), np.int16(30405), np.int16(32411), np.int16(-30052), np.int16(-26980), np.int16(-24974), np.int16(-21899), np.int16(-18832), np.int16(-11959), np.int16(-5105), np.int16(-2183), np.int16(8034), np.int16(10944), np.int16(18746), np.int16(21497), np.int16(-29063), np.int16(-25700), np.int16(-16667), np.int16(-2430), np.int16(3417), np.int16(13224), np.int16(22689), np.int16(29705), np.int16(-27795), np.int16(-21816), np.int16(-14561), np.int16(-8025), np.int16(-330), np.int16(7578), np.int16(16108), np.int16(24976), np.int16(-32413), np.int16(-24172), np.int16(-23531), np.int16(-22890), np.int16(-22249), np.int16(-21608), np.int16(-20967), np.int16(-20326), np.int16(-19685), np.int16(-19044), np.int16(-18403), np.int16(-17762), np.int16(-17121), np.int16(-16480), np.int16(-15839), np.int16(-15198), np.int16(-14557), np.int16(-13916), np.int16(-13275), np.int16(-12634), np.int16(-11993), np.int16(-11347), np.int16(-10706), np.int16(-10065), np.int16(-9423), np.int16(-8782), np.int16(-8141), np.int16(-7500), np.int16(-6859), np.int16(-6218), np.int16(-5577), np.int16(-4936), np.int16(-4295), np.int16(-3654), np.int16(-2995), np.int16(-2354), np.int16(-1689), np.int16(-1048), np.int16(-407), np.int16(234), np.int16(875), np.int16(1516), np.int16(2157), np.int16(2797), np.int16(3438), np.int16(4079), np.int16(4720), np.int16(5361), np.int16(6002), np.int16(6635), np.int16(7276), np.int16(7917), np.int16(8558), np.int16(9199), np.int16(9840), np.int16(10481), np.int16(11123), np.int16(11778), np.int16(12417), np.int16(13046), np.int16(13687), np.int16(14328), np.int16(14969), np.int16(15610), np.int16(16251), np.int16(16892)]))"
            ]
          },
          "metadata": {},
          "execution_count": 41
        }
      ]
    },
    {
      "cell_type": "code",
      "source": [
        "print(train_df['target'][0])"
      ],
      "metadata": {
        "colab": {
          "base_uri": "https://localhost:8080/"
        },
        "id": "c8zA5w-qmFxI",
        "outputId": "1616482f-82d5-41f5-aead-d5419595cdf7"
      },
      "id": "c8zA5w-qmFxI",
      "execution_count": 26,
      "outputs": [
        {
          "output_type": "stream",
          "name": "stdout",
          "text": [
            "[ 1089.2   1078.91  1079.88 ... 36565.18 36565.18 35397.16]\n"
          ]
        }
      ]
    },
    {
      "cell_type": "code",
      "execution_count": 12,
      "id": "9cf91cf2-6257-4202-83de-94e0c63751fa",
      "metadata": {
        "colab": {
          "base_uri": "https://localhost:8080/",
          "height": 81,
          "referenced_widgets": [
            "cb9fb25a195046c2b3f4055703d65d22",
            "3ffb67e6190541a68f26dab693e22077",
            "e04bdc8ec2dc48c2b4b77e750805cdbb",
            "ae8013122ed34acaacf292679e489ee3",
            "4e1f9d2936f446adbab25aa193a19d17",
            "18d9c67fb07642959f929077c28698d8",
            "3bd2b3faf45c46fcac13b1ba79cf7ca4",
            "6e6e25ed65a544ec91469a4dc2a3abb6",
            "9a332de7833f479aa655ac625ecdc490",
            "03b4b4a282a54bfa87205c0748f4fed3",
            "bd4860b66a3840828100524775ccdef5",
            "35135c6bedec41f0bd689e332031d820",
            "a374f666dc034886830c1a963a5dc885",
            "657de6770c97402a8373d25aa471ebb5",
            "14e527788a854dc2bc51d0071f876352",
            "7a67218391f94a00a827d324cc581190",
            "588434d152624ddfa205147c340a831b",
            "c83db572a719446c9b585e36eab47637",
            "663a11d2d58946eba06f137b07425e73",
            "3d2fd10bf9a74abca4f862ff92460ae3",
            "6fc693cf3ada4da7a00f0c2d60301f30",
            "fa6b2f98625c49aea7ecea4b7a6c844b"
          ]
        },
        "id": "9cf91cf2-6257-4202-83de-94e0c63751fa",
        "outputId": "613b88bd-65a6-4bb0-da0f-b15f445c5fda"
      },
      "outputs": [
        {
          "output_type": "display_data",
          "data": {
            "text/plain": [
              "Forecasting batches:   0%|          | 0/359 [00:00<?, ?it/s]"
            ],
            "application/vnd.jupyter.widget-view+json": {
              "version_major": 2,
              "version_minor": 0,
              "model_id": "cb9fb25a195046c2b3f4055703d65d22"
            }
          },
          "metadata": {}
        },
        {
          "output_type": "display_data",
          "data": {
            "text/plain": [
              "Ground truth:   0%|          | 0/359 [00:00<?, ?it/s]"
            ],
            "application/vnd.jupyter.widget-view+json": {
              "version_major": 2,
              "version_minor": 0,
              "model_id": "35135c6bedec41f0bd689e332031d820"
            }
          },
          "metadata": {}
        }
      ],
      "source": [
        "forecasts, tss = get_lag_llama_predictions(\n",
        "    dataset.test,\n",
        "    prediction_length=prediction_length,\n",
        "    num_samples=num_samples,\n",
        "    context_length=context_length,\n",
        "    device=device\n",
        ")"
      ]
    },
    {
      "cell_type": "code",
      "source": [
        "len(forecasts)"
      ],
      "metadata": {
        "colab": {
          "base_uri": "https://localhost:8080/"
        },
        "id": "EYQQEPYJpwW6",
        "outputId": "9e3feca5-efc5-45f1-d887-0ff5b7c49eea"
      },
      "id": "EYQQEPYJpwW6",
      "execution_count": 39,
      "outputs": [
        {
          "output_type": "execute_result",
          "data": {
            "text/plain": [
              "359"
            ]
          },
          "metadata": {},
          "execution_count": 39
        }
      ]
    },
    {
      "cell_type": "code",
      "execution_count": 29,
      "id": "6c8783db-3a6b-4eb6-b2cd-05e25614cbe2",
      "metadata": {
        "colab": {
          "base_uri": "https://localhost:8080/",
          "height": 382
        },
        "id": "6c8783db-3a6b-4eb6-b2cd-05e25614cbe2",
        "outputId": "30a8afca-bea3-4f3f-816f-b9e45e9bf418"
      },
      "outputs": [
        {
          "output_type": "error",
          "ename": "ValueError",
          "evalue": "num must be an integer with 1 <= num <= 16, not 351",
          "traceback": [
            "\u001b[0;31m---------------------------------------------------------------------------\u001b[0m",
            "\u001b[0;31mValueError\u001b[0m                                Traceback (most recent call last)",
            "\u001b[0;32m<ipython-input-29-70207d528949>\u001b[0m in \u001b[0;36m<cell line: 0>\u001b[0;34m()\u001b[0m\n\u001b[1;32m      5\u001b[0m \u001b[0;31m# Iterate through the first 9 series, and plot the predicted samples\u001b[0m\u001b[0;34m\u001b[0m\u001b[0;34m\u001b[0m\u001b[0m\n\u001b[1;32m      6\u001b[0m \u001b[0;32mfor\u001b[0m \u001b[0midx\u001b[0m\u001b[0;34m,\u001b[0m \u001b[0;34m(\u001b[0m\u001b[0mforecast\u001b[0m\u001b[0;34m,\u001b[0m \u001b[0mts\u001b[0m\u001b[0;34m)\u001b[0m \u001b[0;32min\u001b[0m \u001b[0mislice\u001b[0m\u001b[0;34m(\u001b[0m\u001b[0menumerate\u001b[0m\u001b[0;34m(\u001b[0m\u001b[0mzip\u001b[0m\u001b[0;34m(\u001b[0m\u001b[0mforecasts\u001b[0m\u001b[0;34m,\u001b[0m \u001b[0mtss\u001b[0m\u001b[0;34m)\u001b[0m\u001b[0;34m)\u001b[0m\u001b[0;34m,\u001b[0m \u001b[0;36m350\u001b[0m\u001b[0;34m,\u001b[0m \u001b[0;36m355\u001b[0m\u001b[0;34m)\u001b[0m\u001b[0;34m:\u001b[0m\u001b[0;34m\u001b[0m\u001b[0;34m\u001b[0m\u001b[0m\n\u001b[0;32m----> 7\u001b[0;31m     \u001b[0max\u001b[0m \u001b[0;34m=\u001b[0m \u001b[0mplt\u001b[0m\u001b[0;34m.\u001b[0m\u001b[0msubplot\u001b[0m\u001b[0;34m(\u001b[0m\u001b[0;36m4\u001b[0m\u001b[0;34m,\u001b[0m \u001b[0;36m4\u001b[0m\u001b[0;34m,\u001b[0m \u001b[0midx\u001b[0m\u001b[0;34m+\u001b[0m\u001b[0;36m1\u001b[0m\u001b[0;34m)\u001b[0m\u001b[0;34m\u001b[0m\u001b[0;34m\u001b[0m\u001b[0m\n\u001b[0m\u001b[1;32m      8\u001b[0m \u001b[0;34m\u001b[0m\u001b[0m\n\u001b[1;32m      9\u001b[0m     \u001b[0mplt\u001b[0m\u001b[0;34m.\u001b[0m\u001b[0mplot\u001b[0m\u001b[0;34m(\u001b[0m\u001b[0mts\u001b[0m\u001b[0;34m[\u001b[0m\u001b[0;34m-\u001b[0m\u001b[0;36m4\u001b[0m \u001b[0;34m*\u001b[0m \u001b[0mprediction_length\u001b[0m\u001b[0;34m:\u001b[0m\u001b[0;34m]\u001b[0m\u001b[0;34m.\u001b[0m\u001b[0mto_timestamp\u001b[0m\u001b[0;34m(\u001b[0m\u001b[0;34m)\u001b[0m\u001b[0;34m,\u001b[0m \u001b[0mlabel\u001b[0m\u001b[0;34m=\u001b[0m\u001b[0;34m\"target\"\u001b[0m\u001b[0;34m,\u001b[0m \u001b[0;34m)\u001b[0m\u001b[0;34m\u001b[0m\u001b[0;34m\u001b[0m\u001b[0m\n",
            "\u001b[0;32m/usr/local/lib/python3.11/dist-packages/matplotlib/pyplot.py\u001b[0m in \u001b[0;36msubplot\u001b[0;34m(*args, **kwargs)\u001b[0m\n\u001b[1;32m   1548\u001b[0m \u001b[0;34m\u001b[0m\u001b[0m\n\u001b[1;32m   1549\u001b[0m     \u001b[0mfig\u001b[0m \u001b[0;34m=\u001b[0m \u001b[0mgcf\u001b[0m\u001b[0;34m(\u001b[0m\u001b[0;34m)\u001b[0m\u001b[0;34m\u001b[0m\u001b[0;34m\u001b[0m\u001b[0m\n\u001b[0;32m-> 1550\u001b[0;31m \u001b[0;34m\u001b[0m\u001b[0m\n\u001b[0m\u001b[1;32m   1551\u001b[0m     \u001b[0;31m# First, search for an existing subplot with a matching spec.\u001b[0m\u001b[0;34m\u001b[0m\u001b[0;34m\u001b[0m\u001b[0m\n\u001b[1;32m   1552\u001b[0m     \u001b[0mkey\u001b[0m \u001b[0;34m=\u001b[0m \u001b[0mSubplotSpec\u001b[0m\u001b[0;34m.\u001b[0m\u001b[0m_from_subplot_args\u001b[0m\u001b[0;34m(\u001b[0m\u001b[0mfig\u001b[0m\u001b[0;34m,\u001b[0m \u001b[0margs\u001b[0m\u001b[0;34m)\u001b[0m\u001b[0;34m\u001b[0m\u001b[0;34m\u001b[0m\u001b[0m\n",
            "\u001b[0;32m/usr/local/lib/python3.11/dist-packages/matplotlib/gridspec.py\u001b[0m in \u001b[0;36m_from_subplot_args\u001b[0;34m(figure, args)\u001b[0m\n\u001b[1;32m    587\u001b[0m         \u001b[0;32melse\u001b[0m\u001b[0;34m:\u001b[0m\u001b[0;34m\u001b[0m\u001b[0;34m\u001b[0m\u001b[0m\n\u001b[1;32m    588\u001b[0m             \u001b[0;32mif\u001b[0m \u001b[0;32mnot\u001b[0m \u001b[0misinstance\u001b[0m\u001b[0;34m(\u001b[0m\u001b[0mnum\u001b[0m\u001b[0;34m,\u001b[0m \u001b[0mIntegral\u001b[0m\u001b[0;34m)\u001b[0m \u001b[0;32mor\u001b[0m \u001b[0mnum\u001b[0m \u001b[0;34m<\u001b[0m \u001b[0;36m1\u001b[0m \u001b[0;32mor\u001b[0m \u001b[0mnum\u001b[0m \u001b[0;34m>\u001b[0m \u001b[0mrows\u001b[0m\u001b[0;34m*\u001b[0m\u001b[0mcols\u001b[0m\u001b[0;34m:\u001b[0m\u001b[0;34m\u001b[0m\u001b[0;34m\u001b[0m\u001b[0m\n\u001b[0;32m--> 589\u001b[0;31m                 raise ValueError(\n\u001b[0m\u001b[1;32m    590\u001b[0m                     \u001b[0;34mf\"num must be an integer with 1 <= num <= {rows*cols}, \"\u001b[0m\u001b[0;34m\u001b[0m\u001b[0;34m\u001b[0m\u001b[0m\n\u001b[1;32m    591\u001b[0m                     \u001b[0;34mf\"not {num!r}\"\u001b[0m\u001b[0;34m\u001b[0m\u001b[0;34m\u001b[0m\u001b[0m\n",
            "\u001b[0;31mValueError\u001b[0m: num must be an integer with 1 <= num <= 16, not 351"
          ]
        },
        {
          "output_type": "display_data",
          "data": {
            "text/plain": [
              "<Figure size 2000x1500 with 0 Axes>"
            ]
          },
          "metadata": {}
        }
      ],
      "source": [
        "plt.figure(figsize=(20, 15))\n",
        "date_formater = mdates.DateFormatter('%b, %d')\n",
        "plt.rcParams.update({'font.size': 15})\n",
        "\n",
        "# Iterate through the first 9 series, and plot the predicted samples\n",
        "for idx, (forecast, ts) in islice(enumerate(zip(forecasts, tss)), 350, 355):\n",
        "    ax = plt.subplot(4, 4, idx+1)\n",
        "\n",
        "    plt.plot(ts[-4 * prediction_length:].to_timestamp(), label=\"target\", )\n",
        "    forecast.plot( color='g')\n",
        "    plt.xticks(rotation=60)\n",
        "    ax.xaxis.set_major_formatter(date_formater)\n",
        "    ax.set_title(forecast.item_id)\n",
        "\n",
        "plt.gcf().tight_layout()\n",
        "plt.legend()\n",
        "plt.show()"
      ]
    },
    {
      "cell_type": "markdown",
      "id": "a7a9f417-784e-4425-bccf-7fdb10a0df56",
      "metadata": {
        "id": "a7a9f417-784e-4425-bccf-7fdb10a0df56"
      },
      "source": [
        "## Fine-tuning\n",
        "\n",
        "Let us fine-tune the Lag-Llama base model with a few data-specific changes. Feel Free to change the hyperparameters below:"
      ]
    },
    {
      "cell_type": "code",
      "source": [
        "# prompt: connect to drive\n",
        "\n",
        "from google.colab import drive\n",
        "drive.mount('/content/drive', force_remount=True)\n"
      ],
      "metadata": {
        "colab": {
          "base_uri": "https://localhost:8080/"
        },
        "id": "YnAxY7sHg-kV",
        "outputId": "df811f68-6b83-4b1d-e2f2-12d880e0bdb6"
      },
      "id": "YnAxY7sHg-kV",
      "execution_count": 50,
      "outputs": [
        {
          "output_type": "stream",
          "name": "stdout",
          "text": [
            "Mounted at /content/drive\n"
          ]
        }
      ]
    },
    {
      "cell_type": "code",
      "source": [
        "import pandas as pd\n",
        "\n",
        "data_dir = '/content/drive/MyDrive/Batteries/more_data/total/b1c0_for_model.csv'  # adjust if needed\n",
        "df_mine = pd.read_csv(data_dir, parse_dates=True)\n",
        "df_mine"
      ],
      "metadata": {
        "colab": {
          "base_uri": "https://localhost:8080/",
          "height": 444
        },
        "id": "q32Jo6X1vE9T",
        "outputId": "46abaa4a-6695-4ad4-d3c7-9b572ae2f047"
      },
      "id": "q32Jo6X1vE9T",
      "execution_count": 64,
      "outputs": [
        {
          "output_type": "execute_result",
          "data": {
            "text/plain": [
              "      cycle_index  charge_capacity  discharge_capacity  internal_resistance  \\\n",
              "0             3.0         1.071674            1.071900             0.016724   \n",
              "1             4.0         1.072304            1.072510             0.016681   \n",
              "2             5.0         1.072970            1.073174             0.016662   \n",
              "3             6.0         1.073491            1.073576             0.016623   \n",
              "4             7.0         1.073922            1.073992             0.016600   \n",
              "...           ...              ...                 ...                  ...   \n",
              "1844       1847.0         0.885568            0.885435             0.018263   \n",
              "1845       1848.0         0.884639            0.884546             0.018619   \n",
              "1846       1849.0         0.884495            0.884624             0.018133   \n",
              "1847       1850.0         0.884329            0.884331             0.018123   \n",
              "1848       1851.0         0.884042            0.882808             0.018121   \n",
              "\n",
              "      temperature_mean  temperature_min  temperature_max  \n",
              "0            31.931490        29.604385        35.692978  \n",
              "1            31.932603        29.744202        35.680588  \n",
              "2            31.959322        29.644709        35.728691  \n",
              "3            31.961062        29.752932        35.711758  \n",
              "4            31.900562        29.564377        35.615650  \n",
              "...                ...              ...              ...  \n",
              "1844         32.432079        31.080084        35.415527  \n",
              "1845         31.683310        28.951157        36.136974  \n",
              "1846         32.700542        30.243074        36.786781  \n",
              "1847         32.990592        30.337559        36.923153  \n",
              "1848         32.961827        30.634762        36.535774  \n",
              "\n",
              "[1849 rows x 7 columns]"
            ],
            "text/html": [
              "\n",
              "  <div id=\"df-5d9eb567-1705-47f0-bf32-65d335500a13\" class=\"colab-df-container\">\n",
              "    <div>\n",
              "<style scoped>\n",
              "    .dataframe tbody tr th:only-of-type {\n",
              "        vertical-align: middle;\n",
              "    }\n",
              "\n",
              "    .dataframe tbody tr th {\n",
              "        vertical-align: top;\n",
              "    }\n",
              "\n",
              "    .dataframe thead th {\n",
              "        text-align: right;\n",
              "    }\n",
              "</style>\n",
              "<table border=\"1\" class=\"dataframe\">\n",
              "  <thead>\n",
              "    <tr style=\"text-align: right;\">\n",
              "      <th></th>\n",
              "      <th>cycle_index</th>\n",
              "      <th>charge_capacity</th>\n",
              "      <th>discharge_capacity</th>\n",
              "      <th>internal_resistance</th>\n",
              "      <th>temperature_mean</th>\n",
              "      <th>temperature_min</th>\n",
              "      <th>temperature_max</th>\n",
              "    </tr>\n",
              "  </thead>\n",
              "  <tbody>\n",
              "    <tr>\n",
              "      <th>0</th>\n",
              "      <td>3.0</td>\n",
              "      <td>1.071674</td>\n",
              "      <td>1.071900</td>\n",
              "      <td>0.016724</td>\n",
              "      <td>31.931490</td>\n",
              "      <td>29.604385</td>\n",
              "      <td>35.692978</td>\n",
              "    </tr>\n",
              "    <tr>\n",
              "      <th>1</th>\n",
              "      <td>4.0</td>\n",
              "      <td>1.072304</td>\n",
              "      <td>1.072510</td>\n",
              "      <td>0.016681</td>\n",
              "      <td>31.932603</td>\n",
              "      <td>29.744202</td>\n",
              "      <td>35.680588</td>\n",
              "    </tr>\n",
              "    <tr>\n",
              "      <th>2</th>\n",
              "      <td>5.0</td>\n",
              "      <td>1.072970</td>\n",
              "      <td>1.073174</td>\n",
              "      <td>0.016662</td>\n",
              "      <td>31.959322</td>\n",
              "      <td>29.644709</td>\n",
              "      <td>35.728691</td>\n",
              "    </tr>\n",
              "    <tr>\n",
              "      <th>3</th>\n",
              "      <td>6.0</td>\n",
              "      <td>1.073491</td>\n",
              "      <td>1.073576</td>\n",
              "      <td>0.016623</td>\n",
              "      <td>31.961062</td>\n",
              "      <td>29.752932</td>\n",
              "      <td>35.711758</td>\n",
              "    </tr>\n",
              "    <tr>\n",
              "      <th>4</th>\n",
              "      <td>7.0</td>\n",
              "      <td>1.073922</td>\n",
              "      <td>1.073992</td>\n",
              "      <td>0.016600</td>\n",
              "      <td>31.900562</td>\n",
              "      <td>29.564377</td>\n",
              "      <td>35.615650</td>\n",
              "    </tr>\n",
              "    <tr>\n",
              "      <th>...</th>\n",
              "      <td>...</td>\n",
              "      <td>...</td>\n",
              "      <td>...</td>\n",
              "      <td>...</td>\n",
              "      <td>...</td>\n",
              "      <td>...</td>\n",
              "      <td>...</td>\n",
              "    </tr>\n",
              "    <tr>\n",
              "      <th>1844</th>\n",
              "      <td>1847.0</td>\n",
              "      <td>0.885568</td>\n",
              "      <td>0.885435</td>\n",
              "      <td>0.018263</td>\n",
              "      <td>32.432079</td>\n",
              "      <td>31.080084</td>\n",
              "      <td>35.415527</td>\n",
              "    </tr>\n",
              "    <tr>\n",
              "      <th>1845</th>\n",
              "      <td>1848.0</td>\n",
              "      <td>0.884639</td>\n",
              "      <td>0.884546</td>\n",
              "      <td>0.018619</td>\n",
              "      <td>31.683310</td>\n",
              "      <td>28.951157</td>\n",
              "      <td>36.136974</td>\n",
              "    </tr>\n",
              "    <tr>\n",
              "      <th>1846</th>\n",
              "      <td>1849.0</td>\n",
              "      <td>0.884495</td>\n",
              "      <td>0.884624</td>\n",
              "      <td>0.018133</td>\n",
              "      <td>32.700542</td>\n",
              "      <td>30.243074</td>\n",
              "      <td>36.786781</td>\n",
              "    </tr>\n",
              "    <tr>\n",
              "      <th>1847</th>\n",
              "      <td>1850.0</td>\n",
              "      <td>0.884329</td>\n",
              "      <td>0.884331</td>\n",
              "      <td>0.018123</td>\n",
              "      <td>32.990592</td>\n",
              "      <td>30.337559</td>\n",
              "      <td>36.923153</td>\n",
              "    </tr>\n",
              "    <tr>\n",
              "      <th>1848</th>\n",
              "      <td>1851.0</td>\n",
              "      <td>0.884042</td>\n",
              "      <td>0.882808</td>\n",
              "      <td>0.018121</td>\n",
              "      <td>32.961827</td>\n",
              "      <td>30.634762</td>\n",
              "      <td>36.535774</td>\n",
              "    </tr>\n",
              "  </tbody>\n",
              "</table>\n",
              "<p>1849 rows × 7 columns</p>\n",
              "</div>\n",
              "    <div class=\"colab-df-buttons\">\n",
              "\n",
              "  <div class=\"colab-df-container\">\n",
              "    <button class=\"colab-df-convert\" onclick=\"convertToInteractive('df-5d9eb567-1705-47f0-bf32-65d335500a13')\"\n",
              "            title=\"Convert this dataframe to an interactive table.\"\n",
              "            style=\"display:none;\">\n",
              "\n",
              "  <svg xmlns=\"http://www.w3.org/2000/svg\" height=\"24px\" viewBox=\"0 -960 960 960\">\n",
              "    <path d=\"M120-120v-720h720v720H120Zm60-500h600v-160H180v160Zm220 220h160v-160H400v160Zm0 220h160v-160H400v160ZM180-400h160v-160H180v160Zm440 0h160v-160H620v160ZM180-180h160v-160H180v160Zm440 0h160v-160H620v160Z\"/>\n",
              "  </svg>\n",
              "    </button>\n",
              "\n",
              "  <style>\n",
              "    .colab-df-container {\n",
              "      display:flex;\n",
              "      gap: 12px;\n",
              "    }\n",
              "\n",
              "    .colab-df-convert {\n",
              "      background-color: #E8F0FE;\n",
              "      border: none;\n",
              "      border-radius: 50%;\n",
              "      cursor: pointer;\n",
              "      display: none;\n",
              "      fill: #1967D2;\n",
              "      height: 32px;\n",
              "      padding: 0 0 0 0;\n",
              "      width: 32px;\n",
              "    }\n",
              "\n",
              "    .colab-df-convert:hover {\n",
              "      background-color: #E2EBFA;\n",
              "      box-shadow: 0px 1px 2px rgba(60, 64, 67, 0.3), 0px 1px 3px 1px rgba(60, 64, 67, 0.15);\n",
              "      fill: #174EA6;\n",
              "    }\n",
              "\n",
              "    .colab-df-buttons div {\n",
              "      margin-bottom: 4px;\n",
              "    }\n",
              "\n",
              "    [theme=dark] .colab-df-convert {\n",
              "      background-color: #3B4455;\n",
              "      fill: #D2E3FC;\n",
              "    }\n",
              "\n",
              "    [theme=dark] .colab-df-convert:hover {\n",
              "      background-color: #434B5C;\n",
              "      box-shadow: 0px 1px 3px 1px rgba(0, 0, 0, 0.15);\n",
              "      filter: drop-shadow(0px 1px 2px rgba(0, 0, 0, 0.3));\n",
              "      fill: #FFFFFF;\n",
              "    }\n",
              "  </style>\n",
              "\n",
              "    <script>\n",
              "      const buttonEl =\n",
              "        document.querySelector('#df-5d9eb567-1705-47f0-bf32-65d335500a13 button.colab-df-convert');\n",
              "      buttonEl.style.display =\n",
              "        google.colab.kernel.accessAllowed ? 'block' : 'none';\n",
              "\n",
              "      async function convertToInteractive(key) {\n",
              "        const element = document.querySelector('#df-5d9eb567-1705-47f0-bf32-65d335500a13');\n",
              "        const dataTable =\n",
              "          await google.colab.kernel.invokeFunction('convertToInteractive',\n",
              "                                                    [key], {});\n",
              "        if (!dataTable) return;\n",
              "\n",
              "        const docLinkHtml = 'Like what you see? Visit the ' +\n",
              "          '<a target=\"_blank\" href=https://colab.research.google.com/notebooks/data_table.ipynb>data table notebook</a>'\n",
              "          + ' to learn more about interactive tables.';\n",
              "        element.innerHTML = '';\n",
              "        dataTable['output_type'] = 'display_data';\n",
              "        await google.colab.output.renderOutput(dataTable, element);\n",
              "        const docLink = document.createElement('div');\n",
              "        docLink.innerHTML = docLinkHtml;\n",
              "        element.appendChild(docLink);\n",
              "      }\n",
              "    </script>\n",
              "  </div>\n",
              "\n",
              "\n",
              "    <div id=\"df-b50ff55e-5bdf-4709-bc13-f063117d8142\">\n",
              "      <button class=\"colab-df-quickchart\" onclick=\"quickchart('df-b50ff55e-5bdf-4709-bc13-f063117d8142')\"\n",
              "                title=\"Suggest charts\"\n",
              "                style=\"display:none;\">\n",
              "\n",
              "<svg xmlns=\"http://www.w3.org/2000/svg\" height=\"24px\"viewBox=\"0 0 24 24\"\n",
              "     width=\"24px\">\n",
              "    <g>\n",
              "        <path d=\"M19 3H5c-1.1 0-2 .9-2 2v14c0 1.1.9 2 2 2h14c1.1 0 2-.9 2-2V5c0-1.1-.9-2-2-2zM9 17H7v-7h2v7zm4 0h-2V7h2v10zm4 0h-2v-4h2v4z\"/>\n",
              "    </g>\n",
              "</svg>\n",
              "      </button>\n",
              "\n",
              "<style>\n",
              "  .colab-df-quickchart {\n",
              "      --bg-color: #E8F0FE;\n",
              "      --fill-color: #1967D2;\n",
              "      --hover-bg-color: #E2EBFA;\n",
              "      --hover-fill-color: #174EA6;\n",
              "      --disabled-fill-color: #AAA;\n",
              "      --disabled-bg-color: #DDD;\n",
              "  }\n",
              "\n",
              "  [theme=dark] .colab-df-quickchart {\n",
              "      --bg-color: #3B4455;\n",
              "      --fill-color: #D2E3FC;\n",
              "      --hover-bg-color: #434B5C;\n",
              "      --hover-fill-color: #FFFFFF;\n",
              "      --disabled-bg-color: #3B4455;\n",
              "      --disabled-fill-color: #666;\n",
              "  }\n",
              "\n",
              "  .colab-df-quickchart {\n",
              "    background-color: var(--bg-color);\n",
              "    border: none;\n",
              "    border-radius: 50%;\n",
              "    cursor: pointer;\n",
              "    display: none;\n",
              "    fill: var(--fill-color);\n",
              "    height: 32px;\n",
              "    padding: 0;\n",
              "    width: 32px;\n",
              "  }\n",
              "\n",
              "  .colab-df-quickchart:hover {\n",
              "    background-color: var(--hover-bg-color);\n",
              "    box-shadow: 0 1px 2px rgba(60, 64, 67, 0.3), 0 1px 3px 1px rgba(60, 64, 67, 0.15);\n",
              "    fill: var(--button-hover-fill-color);\n",
              "  }\n",
              "\n",
              "  .colab-df-quickchart-complete:disabled,\n",
              "  .colab-df-quickchart-complete:disabled:hover {\n",
              "    background-color: var(--disabled-bg-color);\n",
              "    fill: var(--disabled-fill-color);\n",
              "    box-shadow: none;\n",
              "  }\n",
              "\n",
              "  .colab-df-spinner {\n",
              "    border: 2px solid var(--fill-color);\n",
              "    border-color: transparent;\n",
              "    border-bottom-color: var(--fill-color);\n",
              "    animation:\n",
              "      spin 1s steps(1) infinite;\n",
              "  }\n",
              "\n",
              "  @keyframes spin {\n",
              "    0% {\n",
              "      border-color: transparent;\n",
              "      border-bottom-color: var(--fill-color);\n",
              "      border-left-color: var(--fill-color);\n",
              "    }\n",
              "    20% {\n",
              "      border-color: transparent;\n",
              "      border-left-color: var(--fill-color);\n",
              "      border-top-color: var(--fill-color);\n",
              "    }\n",
              "    30% {\n",
              "      border-color: transparent;\n",
              "      border-left-color: var(--fill-color);\n",
              "      border-top-color: var(--fill-color);\n",
              "      border-right-color: var(--fill-color);\n",
              "    }\n",
              "    40% {\n",
              "      border-color: transparent;\n",
              "      border-right-color: var(--fill-color);\n",
              "      border-top-color: var(--fill-color);\n",
              "    }\n",
              "    60% {\n",
              "      border-color: transparent;\n",
              "      border-right-color: var(--fill-color);\n",
              "    }\n",
              "    80% {\n",
              "      border-color: transparent;\n",
              "      border-right-color: var(--fill-color);\n",
              "      border-bottom-color: var(--fill-color);\n",
              "    }\n",
              "    90% {\n",
              "      border-color: transparent;\n",
              "      border-bottom-color: var(--fill-color);\n",
              "    }\n",
              "  }\n",
              "</style>\n",
              "\n",
              "      <script>\n",
              "        async function quickchart(key) {\n",
              "          const quickchartButtonEl =\n",
              "            document.querySelector('#' + key + ' button');\n",
              "          quickchartButtonEl.disabled = true;  // To prevent multiple clicks.\n",
              "          quickchartButtonEl.classList.add('colab-df-spinner');\n",
              "          try {\n",
              "            const charts = await google.colab.kernel.invokeFunction(\n",
              "                'suggestCharts', [key], {});\n",
              "          } catch (error) {\n",
              "            console.error('Error during call to suggestCharts:', error);\n",
              "          }\n",
              "          quickchartButtonEl.classList.remove('colab-df-spinner');\n",
              "          quickchartButtonEl.classList.add('colab-df-quickchart-complete');\n",
              "        }\n",
              "        (() => {\n",
              "          let quickchartButtonEl =\n",
              "            document.querySelector('#df-b50ff55e-5bdf-4709-bc13-f063117d8142 button');\n",
              "          quickchartButtonEl.style.display =\n",
              "            google.colab.kernel.accessAllowed ? 'block' : 'none';\n",
              "        })();\n",
              "      </script>\n",
              "    </div>\n",
              "\n",
              "  <div id=\"id_e87fbd06-0259-45f6-a897-7f532a87d117\">\n",
              "    <style>\n",
              "      .colab-df-generate {\n",
              "        background-color: #E8F0FE;\n",
              "        border: none;\n",
              "        border-radius: 50%;\n",
              "        cursor: pointer;\n",
              "        display: none;\n",
              "        fill: #1967D2;\n",
              "        height: 32px;\n",
              "        padding: 0 0 0 0;\n",
              "        width: 32px;\n",
              "      }\n",
              "\n",
              "      .colab-df-generate:hover {\n",
              "        background-color: #E2EBFA;\n",
              "        box-shadow: 0px 1px 2px rgba(60, 64, 67, 0.3), 0px 1px 3px 1px rgba(60, 64, 67, 0.15);\n",
              "        fill: #174EA6;\n",
              "      }\n",
              "\n",
              "      [theme=dark] .colab-df-generate {\n",
              "        background-color: #3B4455;\n",
              "        fill: #D2E3FC;\n",
              "      }\n",
              "\n",
              "      [theme=dark] .colab-df-generate:hover {\n",
              "        background-color: #434B5C;\n",
              "        box-shadow: 0px 1px 3px 1px rgba(0, 0, 0, 0.15);\n",
              "        filter: drop-shadow(0px 1px 2px rgba(0, 0, 0, 0.3));\n",
              "        fill: #FFFFFF;\n",
              "      }\n",
              "    </style>\n",
              "    <button class=\"colab-df-generate\" onclick=\"generateWithVariable('df_mine')\"\n",
              "            title=\"Generate code using this dataframe.\"\n",
              "            style=\"display:none;\">\n",
              "\n",
              "  <svg xmlns=\"http://www.w3.org/2000/svg\" height=\"24px\"viewBox=\"0 0 24 24\"\n",
              "       width=\"24px\">\n",
              "    <path d=\"M7,19H8.4L18.45,9,17,7.55,7,17.6ZM5,21V16.75L18.45,3.32a2,2,0,0,1,2.83,0l1.4,1.43a1.91,1.91,0,0,1,.58,1.4,1.91,1.91,0,0,1-.58,1.4L9.25,21ZM18.45,9,17,7.55Zm-12,3A5.31,5.31,0,0,0,4.9,8.1,5.31,5.31,0,0,0,1,6.5,5.31,5.31,0,0,0,4.9,4.9,5.31,5.31,0,0,0,6.5,1,5.31,5.31,0,0,0,8.1,4.9,5.31,5.31,0,0,0,12,6.5,5.46,5.46,0,0,0,6.5,12Z\"/>\n",
              "  </svg>\n",
              "    </button>\n",
              "    <script>\n",
              "      (() => {\n",
              "      const buttonEl =\n",
              "        document.querySelector('#id_e87fbd06-0259-45f6-a897-7f532a87d117 button.colab-df-generate');\n",
              "      buttonEl.style.display =\n",
              "        google.colab.kernel.accessAllowed ? 'block' : 'none';\n",
              "\n",
              "      buttonEl.onclick = () => {\n",
              "        google.colab.notebook.generateWithVariable('df_mine');\n",
              "      }\n",
              "      })();\n",
              "    </script>\n",
              "  </div>\n",
              "\n",
              "    </div>\n",
              "  </div>\n"
            ],
            "application/vnd.google.colaboratory.intrinsic+json": {
              "type": "dataframe",
              "variable_name": "df_mine",
              "summary": "{\n  \"name\": \"df_mine\",\n  \"rows\": 1849,\n  \"fields\": [\n    {\n      \"column\": \"cycle_index\",\n      \"properties\": {\n        \"dtype\": \"number\",\n        \"std\": 533.9046419227564,\n        \"min\": 3.0,\n        \"max\": 1851.0,\n        \"num_unique_values\": 1849,\n        \"samples\": [\n          541.0,\n          1292.0,\n          634.0\n        ],\n        \"semantic_type\": \"\",\n        \"description\": \"\"\n      }\n    },\n    {\n      \"column\": \"charge_capacity\",\n      \"properties\": {\n        \"dtype\": \"number\",\n        \"std\": 0.05067522335445939,\n        \"min\": 0.88218212,\n        \"max\": 1.0768999,\n        \"num_unique_values\": 1846,\n        \"samples\": [\n          0.95553529,\n          1.0281144,\n          1.0483276\n        ],\n        \"semantic_type\": \"\",\n        \"description\": \"\"\n      }\n    },\n    {\n      \"column\": \"discharge_capacity\",\n      \"properties\": {\n        \"dtype\": \"number\",\n        \"std\": 0.05098014878873223,\n        \"min\": 0.8820197,\n        \"max\": 1.0770824,\n        \"num_unique_values\": 1848,\n        \"samples\": [\n          1.0690169,\n          1.009551,\n          0.96470952\n        ],\n        \"semantic_type\": \"\",\n        \"description\": \"\"\n      }\n    },\n    {\n      \"column\": \"internal_resistance\",\n      \"properties\": {\n        \"dtype\": \"number\",\n        \"std\": 0.0004235883381595769,\n        \"min\": 0.016009711,\n        \"max\": 0.018950272,\n        \"num_unique_values\": 1846,\n        \"samples\": [\n          0.0172174,\n          0.017076185,\n          0.016969774\n        ],\n        \"semantic_type\": \"\",\n        \"description\": \"\"\n      }\n    },\n    {\n      \"column\": \"temperature_mean\",\n      \"properties\": {\n        \"dtype\": \"number\",\n        \"std\": 0.7336527448753607,\n        \"min\": 29.613311525160118,\n        \"max\": 34.43546977876894,\n        \"num_unique_values\": 1806,\n        \"samples\": [\n          32.4972671434263,\n          31.589307872972924,\n          33.48521521155638\n        ],\n        \"semantic_type\": \"\",\n        \"description\": \"\"\n      }\n    },\n    {\n      \"column\": \"temperature_min\",\n      \"properties\": {\n        \"dtype\": \"number\",\n        \"std\": 0.8721717267248562,\n        \"min\": 26.559053,\n        \"max\": 32.200756,\n        \"num_unique_values\": 1807,\n        \"samples\": [\n          28.903788,\n          29.38896,\n          30.343901\n        ],\n        \"semantic_type\": \"\",\n        \"description\": \"\"\n      }\n    },\n    {\n      \"column\": \"temperature_max\",\n      \"properties\": {\n        \"dtype\": \"number\",\n        \"std\": 0.7643097747227391,\n        \"min\": 34.076157,\n        \"max\": 38.69138,\n        \"num_unique_values\": 1824,\n        \"samples\": [\n          36.19194,\n          37.022018,\n          35.759949\n        ],\n        \"semantic_type\": \"\",\n        \"description\": \"\"\n      }\n    }\n  ]\n}"
            }
          },
          "metadata": {},
          "execution_count": 64
        }
      ]
    },
    {
      "cell_type": "code",
      "source": [
        "import numpy as np\n",
        "\n",
        "df_mine['timestamp'] = pd.to_datetime(\n",
        "        df_mine['cycle_index'],\n",
        "        unit='D',\n",
        "        origin=pd.Timestamp(\"2000-01-01\")\n",
        "    )\n",
        "df_mine = df_mine.set_index('timestamp')\n",
        "\n",
        "# Drop the now-unneeded cycle_index column\n",
        "df_mine = df_mine.drop(columns=['cycle_index'])\n",
        "\n",
        "# Convert numerical columns to float 32 format for lag-llama\n",
        "for col in df_mine.columns:\n",
        "    # Check if column is not of string type\n",
        "    if df_mine[col].dtype != 'object' and pd.api.types.is_string_dtype(df_mine[col]) == False:\n",
        "        df_mine[col] = df_mine[col].astype('float32')\n",
        "#print(dict(df_mine))\n",
        "# Create a PandasDataset\n",
        "ds = PandasDataset(dict(df_mine))\n",
        "\n",
        "backtest_dataset = ds\n",
        "device = torch.device(\"cuda:0\")"
      ],
      "metadata": {
        "id": "SVors0zHvgrY"
      },
      "id": "SVors0zHvgrY",
      "execution_count": 65,
      "outputs": []
    },
    {
      "cell_type": "code",
      "source": [
        "backtest_dataset"
      ],
      "metadata": {
        "colab": {
          "base_uri": "https://localhost:8080/"
        },
        "id": "LVscqKzLvlIq",
        "outputId": "7585abad-ee25-4c4b-d7ad-1e2608cacbce"
      },
      "id": "LVscqKzLvlIq",
      "execution_count": 68,
      "outputs": [
        {
          "output_type": "execute_result",
          "data": {
            "text/plain": [
              "PandasDataset<size=6, freq=D, num_feat_dynamic_real=0, num_past_feat_dynamic_real=0, num_feat_static_real=0, num_feat_static_cat=0, static_cardinalities=[]>"
            ]
          },
          "metadata": {},
          "execution_count": 68
        }
      ]
    },
    {
      "cell_type": "code",
      "execution_count": 69,
      "id": "de228599-5404-4b62-87cd-4b9573583981",
      "metadata": {
        "id": "de228599-5404-4b62-87cd-4b9573583981"
      },
      "outputs": [],
      "source": [
        "ckpt = torch.load(\"lag-llama.ckpt\", map_location=device, weights_only=False)\n",
        "estimator_args = ckpt[\"hyper_parameters\"][\"model_kwargs\"]\n",
        "\n",
        "estimator = LagLlamaEstimator(\n",
        "        ckpt_path=\"lag-llama.ckpt\",\n",
        "        prediction_length=prediction_length,\n",
        "        context_length=context_length,\n",
        "\n",
        "        # distr_output=\"neg_bin\",\n",
        "        # scaling=\"mean\",\n",
        "        nonnegative_pred_samples=True,\n",
        "        aug_prob=0,\n",
        "        lr=5e-4,\n",
        "\n",
        "        # estimator args\n",
        "        input_size=estimator_args[\"input_size\"],\n",
        "        n_layer=estimator_args[\"n_layer\"],\n",
        "        n_embd_per_head=estimator_args[\"n_embd_per_head\"],\n",
        "        n_head=estimator_args[\"n_head\"],\n",
        "        time_feat=estimator_args[\"time_feat\"],\n",
        "\n",
        "        # rope_scaling={\n",
        "        #     \"type\": \"linear\",\n",
        "        #     \"factor\": max(1.0, (context_length + prediction_length) / estimator_args[\"context_length\"]),\n",
        "        # },\n",
        "\n",
        "        batch_size=64,\n",
        "        num_parallel_samples=num_samples,\n",
        "        trainer_kwargs = {\"max_epochs\": 50,}, # <- lightning trainer arguments\n",
        "    )"
      ]
    },
    {
      "cell_type": "code",
      "execution_count": 70,
      "id": "7b2b75bd-657d-438b-8596-f97509253c92",
      "metadata": {
        "colab": {
          "base_uri": "https://localhost:8080/",
          "height": 1000,
          "referenced_widgets": [
            "e30cf36b02594849b0db2e6665b28d0b",
            "e71cb6a71dde46c7833cc75536ed681e",
            "ddf16dd9ea884487ae49187a555d976c",
            "101f2da9ae6a4d18925c94f583aeb7a8",
            "e2596446da5c428facfa05b5861f1e86",
            "9207d6fa203748908072e7018c022e35",
            "21614bfbbc844ecf8a0099975eda93b1",
            "dd8beebd4325434d96ff45a81f4b28a7",
            "4b0f8195e7194f9c99a63ef5a42c334a",
            "7914804d50b448c398497c8370796574",
            "9d5f54a7527b47ce996fde7efda50597"
          ]
        },
        "id": "7b2b75bd-657d-438b-8596-f97509253c92",
        "outputId": "8a1ec389-f37e-4c89-db23-522c56ecc6e9"
      },
      "outputs": [
        {
          "output_type": "stream",
          "name": "stderr",
          "text": [
            "INFO: GPU available: True (cuda), used: True\n",
            "INFO:lightning.pytorch.utilities.rank_zero:GPU available: True (cuda), used: True\n",
            "INFO: TPU available: False, using: 0 TPU cores\n",
            "INFO:lightning.pytorch.utilities.rank_zero:TPU available: False, using: 0 TPU cores\n",
            "INFO: HPU available: False, using: 0 HPUs\n",
            "INFO:lightning.pytorch.utilities.rank_zero:HPU available: False, using: 0 HPUs\n",
            "/usr/local/lib/python3.11/dist-packages/lightning/pytorch/trainer/configuration_validator.py:70: You defined a `validation_step` but have no `val_dataloader`. Skipping val loop.\n",
            "INFO: LOCAL_RANK: 0 - CUDA_VISIBLE_DEVICES: [0]\n",
            "INFO:lightning.pytorch.accelerators.cuda:LOCAL_RANK: 0 - CUDA_VISIBLE_DEVICES: [0]\n",
            "INFO: \n",
            "  | Name          | Type               | Params | Mode \n",
            "-------------------------------------------------------------\n",
            "0 | model         | LagLlamaModel      | 2.4 M  | train\n",
            "1 | augmentations | ApplyAugmentations | 0      | train\n",
            "-------------------------------------------------------------\n",
            "2.4 M     Trainable params\n",
            "0         Non-trainable params\n",
            "2.4 M     Total params\n",
            "9.797     Total estimated model params size (MB)\n",
            "110       Modules in train mode\n",
            "0         Modules in eval mode\n",
            "INFO:lightning.pytorch.callbacks.model_summary:\n",
            "  | Name          | Type               | Params | Mode \n",
            "-------------------------------------------------------------\n",
            "0 | model         | LagLlamaModel      | 2.4 M  | train\n",
            "1 | augmentations | ApplyAugmentations | 0      | train\n",
            "-------------------------------------------------------------\n",
            "2.4 M     Trainable params\n",
            "0         Non-trainable params\n",
            "2.4 M     Total params\n",
            "9.797     Total estimated model params size (MB)\n",
            "110       Modules in train mode\n",
            "0         Modules in eval mode\n"
          ]
        },
        {
          "output_type": "display_data",
          "data": {
            "text/plain": [
              "Training: |          | 0/? [00:00<?, ?it/s]"
            ],
            "application/vnd.jupyter.widget-view+json": {
              "version_major": 2,
              "version_minor": 0,
              "model_id": "e30cf36b02594849b0db2e6665b28d0b"
            }
          },
          "metadata": {}
        },
        {
          "output_type": "stream",
          "name": "stderr",
          "text": [
            "INFO: Epoch 0, global step 50: 'train_loss' reached 0.68657 (best 0.68657), saving model to '/content/lag-llama/lightning_logs/version_1/checkpoints/epoch=0-step=50.ckpt' as top 1\n",
            "INFO:lightning.pytorch.utilities.rank_zero:Epoch 0, global step 50: 'train_loss' reached 0.68657 (best 0.68657), saving model to '/content/lag-llama/lightning_logs/version_1/checkpoints/epoch=0-step=50.ckpt' as top 1\n",
            "INFO: Epoch 1, global step 100: 'train_loss' reached -0.38293 (best -0.38293), saving model to '/content/lag-llama/lightning_logs/version_1/checkpoints/epoch=1-step=100.ckpt' as top 1\n",
            "INFO:lightning.pytorch.utilities.rank_zero:Epoch 1, global step 100: 'train_loss' reached -0.38293 (best -0.38293), saving model to '/content/lag-llama/lightning_logs/version_1/checkpoints/epoch=1-step=100.ckpt' as top 1\n",
            "INFO: Epoch 2, global step 150: 'train_loss' was not in top 1\n",
            "INFO:lightning.pytorch.utilities.rank_zero:Epoch 2, global step 150: 'train_loss' was not in top 1\n",
            "INFO: Epoch 3, global step 200: 'train_loss' reached -0.99010 (best -0.99010), saving model to '/content/lag-llama/lightning_logs/version_1/checkpoints/epoch=3-step=200.ckpt' as top 1\n",
            "INFO:lightning.pytorch.utilities.rank_zero:Epoch 3, global step 200: 'train_loss' reached -0.99010 (best -0.99010), saving model to '/content/lag-llama/lightning_logs/version_1/checkpoints/epoch=3-step=200.ckpt' as top 1\n",
            "INFO: Epoch 4, global step 250: 'train_loss' reached -1.09109 (best -1.09109), saving model to '/content/lag-llama/lightning_logs/version_1/checkpoints/epoch=4-step=250.ckpt' as top 1\n",
            "INFO:lightning.pytorch.utilities.rank_zero:Epoch 4, global step 250: 'train_loss' reached -1.09109 (best -1.09109), saving model to '/content/lag-llama/lightning_logs/version_1/checkpoints/epoch=4-step=250.ckpt' as top 1\n",
            "INFO: Epoch 5, global step 300: 'train_loss' was not in top 1\n",
            "INFO:lightning.pytorch.utilities.rank_zero:Epoch 5, global step 300: 'train_loss' was not in top 1\n",
            "INFO: Epoch 6, global step 350: 'train_loss' reached -1.40936 (best -1.40936), saving model to '/content/lag-llama/lightning_logs/version_1/checkpoints/epoch=6-step=350.ckpt' as top 1\n",
            "INFO:lightning.pytorch.utilities.rank_zero:Epoch 6, global step 350: 'train_loss' reached -1.40936 (best -1.40936), saving model to '/content/lag-llama/lightning_logs/version_1/checkpoints/epoch=6-step=350.ckpt' as top 1\n",
            "INFO: Epoch 7, global step 400: 'train_loss' reached -1.49625 (best -1.49625), saving model to '/content/lag-llama/lightning_logs/version_1/checkpoints/epoch=7-step=400.ckpt' as top 1\n",
            "INFO:lightning.pytorch.utilities.rank_zero:Epoch 7, global step 400: 'train_loss' reached -1.49625 (best -1.49625), saving model to '/content/lag-llama/lightning_logs/version_1/checkpoints/epoch=7-step=400.ckpt' as top 1\n",
            "INFO: Epoch 8, global step 450: 'train_loss' was not in top 1\n",
            "INFO:lightning.pytorch.utilities.rank_zero:Epoch 8, global step 450: 'train_loss' was not in top 1\n",
            "INFO: Epoch 9, global step 500: 'train_loss' was not in top 1\n",
            "INFO:lightning.pytorch.utilities.rank_zero:Epoch 9, global step 500: 'train_loss' was not in top 1\n",
            "INFO: Epoch 10, global step 550: 'train_loss' reached -1.53011 (best -1.53011), saving model to '/content/lag-llama/lightning_logs/version_1/checkpoints/epoch=10-step=550.ckpt' as top 1\n",
            "INFO:lightning.pytorch.utilities.rank_zero:Epoch 10, global step 550: 'train_loss' reached -1.53011 (best -1.53011), saving model to '/content/lag-llama/lightning_logs/version_1/checkpoints/epoch=10-step=550.ckpt' as top 1\n",
            "INFO: Epoch 11, global step 600: 'train_loss' was not in top 1\n",
            "INFO:lightning.pytorch.utilities.rank_zero:Epoch 11, global step 600: 'train_loss' was not in top 1\n",
            "INFO: Epoch 12, global step 650: 'train_loss' was not in top 1\n",
            "INFO:lightning.pytorch.utilities.rank_zero:Epoch 12, global step 650: 'train_loss' was not in top 1\n",
            "INFO: Epoch 13, global step 700: 'train_loss' reached -1.66064 (best -1.66064), saving model to '/content/lag-llama/lightning_logs/version_1/checkpoints/epoch=13-step=700.ckpt' as top 1\n",
            "INFO:lightning.pytorch.utilities.rank_zero:Epoch 13, global step 700: 'train_loss' reached -1.66064 (best -1.66064), saving model to '/content/lag-llama/lightning_logs/version_1/checkpoints/epoch=13-step=700.ckpt' as top 1\n",
            "INFO: Epoch 14, global step 750: 'train_loss' was not in top 1\n",
            "INFO:lightning.pytorch.utilities.rank_zero:Epoch 14, global step 750: 'train_loss' was not in top 1\n",
            "INFO: Epoch 15, global step 800: 'train_loss' was not in top 1\n",
            "INFO:lightning.pytorch.utilities.rank_zero:Epoch 15, global step 800: 'train_loss' was not in top 1\n",
            "INFO: Epoch 16, global step 850: 'train_loss' reached -1.70167 (best -1.70167), saving model to '/content/lag-llama/lightning_logs/version_1/checkpoints/epoch=16-step=850.ckpt' as top 1\n",
            "INFO:lightning.pytorch.utilities.rank_zero:Epoch 16, global step 850: 'train_loss' reached -1.70167 (best -1.70167), saving model to '/content/lag-llama/lightning_logs/version_1/checkpoints/epoch=16-step=850.ckpt' as top 1\n",
            "INFO: Epoch 17, global step 900: 'train_loss' reached -1.70260 (best -1.70260), saving model to '/content/lag-llama/lightning_logs/version_1/checkpoints/epoch=17-step=900.ckpt' as top 1\n",
            "INFO:lightning.pytorch.utilities.rank_zero:Epoch 17, global step 900: 'train_loss' reached -1.70260 (best -1.70260), saving model to '/content/lag-llama/lightning_logs/version_1/checkpoints/epoch=17-step=900.ckpt' as top 1\n",
            "INFO: Epoch 18, global step 950: 'train_loss' reached -1.70874 (best -1.70874), saving model to '/content/lag-llama/lightning_logs/version_1/checkpoints/epoch=18-step=950.ckpt' as top 1\n",
            "INFO:lightning.pytorch.utilities.rank_zero:Epoch 18, global step 950: 'train_loss' reached -1.70874 (best -1.70874), saving model to '/content/lag-llama/lightning_logs/version_1/checkpoints/epoch=18-step=950.ckpt' as top 1\n",
            "INFO: Epoch 19, global step 1000: 'train_loss' was not in top 1\n",
            "INFO:lightning.pytorch.utilities.rank_zero:Epoch 19, global step 1000: 'train_loss' was not in top 1\n",
            "INFO: Epoch 20, global step 1050: 'train_loss' reached -1.78458 (best -1.78458), saving model to '/content/lag-llama/lightning_logs/version_1/checkpoints/epoch=20-step=1050.ckpt' as top 1\n",
            "INFO:lightning.pytorch.utilities.rank_zero:Epoch 20, global step 1050: 'train_loss' reached -1.78458 (best -1.78458), saving model to '/content/lag-llama/lightning_logs/version_1/checkpoints/epoch=20-step=1050.ckpt' as top 1\n",
            "INFO: Epoch 21, global step 1100: 'train_loss' was not in top 1\n",
            "INFO:lightning.pytorch.utilities.rank_zero:Epoch 21, global step 1100: 'train_loss' was not in top 1\n",
            "INFO: Epoch 22, global step 1150: 'train_loss' reached -1.88376 (best -1.88376), saving model to '/content/lag-llama/lightning_logs/version_1/checkpoints/epoch=22-step=1150.ckpt' as top 1\n",
            "INFO:lightning.pytorch.utilities.rank_zero:Epoch 22, global step 1150: 'train_loss' reached -1.88376 (best -1.88376), saving model to '/content/lag-llama/lightning_logs/version_1/checkpoints/epoch=22-step=1150.ckpt' as top 1\n",
            "INFO: Epoch 23, global step 1200: 'train_loss' was not in top 1\n",
            "INFO:lightning.pytorch.utilities.rank_zero:Epoch 23, global step 1200: 'train_loss' was not in top 1\n",
            "INFO: Epoch 24, global step 1250: 'train_loss' reached -1.93645 (best -1.93645), saving model to '/content/lag-llama/lightning_logs/version_1/checkpoints/epoch=24-step=1250.ckpt' as top 1\n",
            "INFO:lightning.pytorch.utilities.rank_zero:Epoch 24, global step 1250: 'train_loss' reached -1.93645 (best -1.93645), saving model to '/content/lag-llama/lightning_logs/version_1/checkpoints/epoch=24-step=1250.ckpt' as top 1\n",
            "INFO: Epoch 25, global step 1300: 'train_loss' reached -1.93744 (best -1.93744), saving model to '/content/lag-llama/lightning_logs/version_1/checkpoints/epoch=25-step=1300.ckpt' as top 1\n",
            "INFO:lightning.pytorch.utilities.rank_zero:Epoch 25, global step 1300: 'train_loss' reached -1.93744 (best -1.93744), saving model to '/content/lag-llama/lightning_logs/version_1/checkpoints/epoch=25-step=1300.ckpt' as top 1\n",
            "INFO: Epoch 26, global step 1350: 'train_loss' reached -1.96519 (best -1.96519), saving model to '/content/lag-llama/lightning_logs/version_1/checkpoints/epoch=26-step=1350.ckpt' as top 1\n",
            "INFO:lightning.pytorch.utilities.rank_zero:Epoch 26, global step 1350: 'train_loss' reached -1.96519 (best -1.96519), saving model to '/content/lag-llama/lightning_logs/version_1/checkpoints/epoch=26-step=1350.ckpt' as top 1\n",
            "INFO: Epoch 27, global step 1400: 'train_loss' reached -1.96864 (best -1.96864), saving model to '/content/lag-llama/lightning_logs/version_1/checkpoints/epoch=27-step=1400.ckpt' as top 1\n",
            "INFO:lightning.pytorch.utilities.rank_zero:Epoch 27, global step 1400: 'train_loss' reached -1.96864 (best -1.96864), saving model to '/content/lag-llama/lightning_logs/version_1/checkpoints/epoch=27-step=1400.ckpt' as top 1\n",
            "INFO: Epoch 28, global step 1450: 'train_loss' was not in top 1\n",
            "INFO:lightning.pytorch.utilities.rank_zero:Epoch 28, global step 1450: 'train_loss' was not in top 1\n",
            "INFO: Epoch 29, global step 1500: 'train_loss' reached -2.01998 (best -2.01998), saving model to '/content/lag-llama/lightning_logs/version_1/checkpoints/epoch=29-step=1500.ckpt' as top 1\n",
            "INFO:lightning.pytorch.utilities.rank_zero:Epoch 29, global step 1500: 'train_loss' reached -2.01998 (best -2.01998), saving model to '/content/lag-llama/lightning_logs/version_1/checkpoints/epoch=29-step=1500.ckpt' as top 1\n",
            "INFO: Epoch 30, global step 1550: 'train_loss' was not in top 1\n",
            "INFO:lightning.pytorch.utilities.rank_zero:Epoch 30, global step 1550: 'train_loss' was not in top 1\n",
            "INFO: Epoch 31, global step 1600: 'train_loss' reached -2.02942 (best -2.02942), saving model to '/content/lag-llama/lightning_logs/version_1/checkpoints/epoch=31-step=1600.ckpt' as top 1\n",
            "INFO:lightning.pytorch.utilities.rank_zero:Epoch 31, global step 1600: 'train_loss' reached -2.02942 (best -2.02942), saving model to '/content/lag-llama/lightning_logs/version_1/checkpoints/epoch=31-step=1600.ckpt' as top 1\n",
            "INFO: Epoch 32, global step 1650: 'train_loss' reached -2.10850 (best -2.10850), saving model to '/content/lag-llama/lightning_logs/version_1/checkpoints/epoch=32-step=1650.ckpt' as top 1\n",
            "INFO:lightning.pytorch.utilities.rank_zero:Epoch 32, global step 1650: 'train_loss' reached -2.10850 (best -2.10850), saving model to '/content/lag-llama/lightning_logs/version_1/checkpoints/epoch=32-step=1650.ckpt' as top 1\n",
            "INFO: Epoch 33, global step 1700: 'train_loss' was not in top 1\n",
            "INFO:lightning.pytorch.utilities.rank_zero:Epoch 33, global step 1700: 'train_loss' was not in top 1\n",
            "INFO: Epoch 34, global step 1750: 'train_loss' was not in top 1\n",
            "INFO:lightning.pytorch.utilities.rank_zero:Epoch 34, global step 1750: 'train_loss' was not in top 1\n",
            "INFO: Epoch 35, global step 1800: 'train_loss' reached -2.17854 (best -2.17854), saving model to '/content/lag-llama/lightning_logs/version_1/checkpoints/epoch=35-step=1800.ckpt' as top 1\n",
            "INFO:lightning.pytorch.utilities.rank_zero:Epoch 35, global step 1800: 'train_loss' reached -2.17854 (best -2.17854), saving model to '/content/lag-llama/lightning_logs/version_1/checkpoints/epoch=35-step=1800.ckpt' as top 1\n",
            "INFO: Epoch 36, global step 1850: 'train_loss' was not in top 1\n",
            "INFO:lightning.pytorch.utilities.rank_zero:Epoch 36, global step 1850: 'train_loss' was not in top 1\n",
            "INFO: Epoch 37, global step 1900: 'train_loss' was not in top 1\n",
            "INFO:lightning.pytorch.utilities.rank_zero:Epoch 37, global step 1900: 'train_loss' was not in top 1\n",
            "INFO: Epoch 38, global step 1950: 'train_loss' was not in top 1\n",
            "INFO:lightning.pytorch.utilities.rank_zero:Epoch 38, global step 1950: 'train_loss' was not in top 1\n",
            "INFO: Epoch 39, global step 2000: 'train_loss' was not in top 1\n",
            "INFO:lightning.pytorch.utilities.rank_zero:Epoch 39, global step 2000: 'train_loss' was not in top 1\n",
            "INFO: Epoch 40, global step 2050: 'train_loss' was not in top 1\n",
            "INFO:lightning.pytorch.utilities.rank_zero:Epoch 40, global step 2050: 'train_loss' was not in top 1\n",
            "INFO: Epoch 41, global step 2100: 'train_loss' reached -2.18367 (best -2.18367), saving model to '/content/lag-llama/lightning_logs/version_1/checkpoints/epoch=41-step=2100.ckpt' as top 1\n",
            "INFO:lightning.pytorch.utilities.rank_zero:Epoch 41, global step 2100: 'train_loss' reached -2.18367 (best -2.18367), saving model to '/content/lag-llama/lightning_logs/version_1/checkpoints/epoch=41-step=2100.ckpt' as top 1\n",
            "INFO: Epoch 42, global step 2150: 'train_loss' was not in top 1\n",
            "INFO:lightning.pytorch.utilities.rank_zero:Epoch 42, global step 2150: 'train_loss' was not in top 1\n",
            "INFO: Epoch 43, global step 2200: 'train_loss' was not in top 1\n",
            "INFO:lightning.pytorch.utilities.rank_zero:Epoch 43, global step 2200: 'train_loss' was not in top 1\n",
            "INFO: Epoch 44, global step 2250: 'train_loss' was not in top 1\n",
            "INFO:lightning.pytorch.utilities.rank_zero:Epoch 44, global step 2250: 'train_loss' was not in top 1\n",
            "INFO: Epoch 45, global step 2300: 'train_loss' was not in top 1\n",
            "INFO:lightning.pytorch.utilities.rank_zero:Epoch 45, global step 2300: 'train_loss' was not in top 1\n",
            "INFO: Epoch 46, global step 2350: 'train_loss' was not in top 1\n",
            "INFO:lightning.pytorch.utilities.rank_zero:Epoch 46, global step 2350: 'train_loss' was not in top 1\n",
            "INFO: Epoch 47, global step 2400: 'train_loss' reached -2.18988 (best -2.18988), saving model to '/content/lag-llama/lightning_logs/version_1/checkpoints/epoch=47-step=2400.ckpt' as top 1\n",
            "INFO:lightning.pytorch.utilities.rank_zero:Epoch 47, global step 2400: 'train_loss' reached -2.18988 (best -2.18988), saving model to '/content/lag-llama/lightning_logs/version_1/checkpoints/epoch=47-step=2400.ckpt' as top 1\n",
            "INFO: Epoch 48, global step 2450: 'train_loss' reached -2.29764 (best -2.29764), saving model to '/content/lag-llama/lightning_logs/version_1/checkpoints/epoch=48-step=2450.ckpt' as top 1\n",
            "INFO:lightning.pytorch.utilities.rank_zero:Epoch 48, global step 2450: 'train_loss' reached -2.29764 (best -2.29764), saving model to '/content/lag-llama/lightning_logs/version_1/checkpoints/epoch=48-step=2450.ckpt' as top 1\n",
            "INFO: Epoch 49, global step 2500: 'train_loss' was not in top 1\n",
            "INFO:lightning.pytorch.utilities.rank_zero:Epoch 49, global step 2500: 'train_loss' was not in top 1\n",
            "INFO: `Trainer.fit` stopped: `max_epochs=50` reached.\n",
            "INFO:lightning.pytorch.utilities.rank_zero:`Trainer.fit` stopped: `max_epochs=50` reached.\n"
          ]
        }
      ],
      "source": [
        "predictor = estimator.train(backtest_dataset, cache_data=True, shuffle_buffer_length=1000)"
      ]
    },
    {
      "cell_type": "code",
      "source": [
        "data_dir = '/content/drive/MyDrive/Batteries/more_data/total/b3c0_for_model.csv'  # adjust if needed\n",
        "df_mine = pd.read_csv(data_dir, parse_dates=True)\n",
        "\n",
        "df_mine['timestamp'] = pd.to_datetime(\n",
        "        df_mine['cycle_index'],\n",
        "        unit='D',\n",
        "        origin=pd.Timestamp(\"2000-01-01\")\n",
        "    )\n",
        "df_mine = df_mine.set_index('timestamp')\n",
        "\n",
        "# Drop the now-unneeded cycle_index column\n",
        "df_mine = df_mine.drop(columns=['cycle_index'])\n",
        "\n",
        "# Convert numerical columns to float 32 format for lag-llama\n",
        "for col in df_mine.columns:\n",
        "    # Check if column is not of string type\n",
        "    if df_mine[col].dtype != 'object' and pd.api.types.is_string_dtype(df_mine[col]) == False:\n",
        "        df_mine[col] = df_mine[col].astype('float32')\n",
        "#print(dict(df_mine))\n",
        "# Create a PandasDataset\n",
        "ds = PandasDataset(dict(df_mine))\n",
        "\n",
        "test = ds\n",
        "device = torch.device(\"cuda:0\")"
      ],
      "metadata": {
        "id": "He-njhzb8mFw"
      },
      "id": "He-njhzb8mFw",
      "execution_count": 106,
      "outputs": []
    },
    {
      "cell_type": "code",
      "execution_count": 107,
      "id": "54a88620-5a56-463c-adf7-ef13018da432",
      "metadata": {
        "id": "54a88620-5a56-463c-adf7-ef13018da432"
      },
      "outputs": [],
      "source": [
        "forecast_it, ts_it = make_evaluation_predictions(\n",
        "        dataset=test,\n",
        "        predictor=predictor,\n",
        "        num_samples=num_samples\n",
        "    )"
      ]
    },
    {
      "cell_type": "code",
      "execution_count": 108,
      "id": "3413cbf1-7e58-4c16-84a1-4c92d9926908",
      "metadata": {
        "colab": {
          "referenced_widgets": [
            "3d537205d7254be8b06d35072cd12397",
            "d4590aaa84e34bc9a28943bafb00180e",
            "db8b3638aef648d1ba84d0aff73e686a",
            "6299d04dc72c4f3d98bb05e15dbd73ce",
            "d49c5bdba02946d4ab30da59a2dfe959",
            "070dbc85fd1441fc80926eb7c4ba8ddd",
            "4f5fde5170d044d5aaafe4f15e66695d",
            "c763271e3a254a7fb2e263fdfd1a07d2",
            "f56cb913eb344eaaae7387186475cd49",
            "2716e210081647838edba0b055e0d283",
            "f88c99bb2b904fbe97a73b47157ac26c"
          ],
          "base_uri": "https://localhost:8080/",
          "height": 49
        },
        "id": "3413cbf1-7e58-4c16-84a1-4c92d9926908",
        "outputId": "3f8b01f4-55cf-4bb5-e2de-c4c4c17edd33"
      },
      "outputs": [
        {
          "output_type": "display_data",
          "data": {
            "text/plain": [
              "Forecasting batches:   0%|          | 0/3 [00:00<?, ?it/s]"
            ],
            "application/vnd.jupyter.widget-view+json": {
              "version_major": 2,
              "version_minor": 0,
              "model_id": "3d537205d7254be8b06d35072cd12397"
            }
          },
          "metadata": {}
        }
      ],
      "source": [
        "forecasts = list(tqdm(forecast_it, total=len(dataset), desc=\"Forecasting batches\"))"
      ]
    },
    {
      "cell_type": "code",
      "execution_count": 109,
      "id": "acf547aa-4c47-40b5-bf14-0835601a24d7",
      "metadata": {
        "colab": {
          "referenced_widgets": [
            "55908b9d759942cbb7c2f29d473e14f4",
            "45919d5106c34941b4bd1591f1452264",
            "e01e3b33467c4f0d8939de6a0883d85e",
            "7dc285d915ee4f77be640c5fec4b8b66",
            "228ecc7560b9456faf3d4bf90b9f49a9",
            "2ced1e9e927e43e6bf2d3ea6ae7f84a5",
            "93abf5036721482685e5240b1105b988",
            "a691faa0d57c436a960667c77b268f1d",
            "ffea13c2c94246058638d815411299c9",
            "e4a42c2b171f4a788f6e6c19ac5dffc5",
            "065a429976e948a1b8a4b8917a055830"
          ],
          "base_uri": "https://localhost:8080/",
          "height": 49
        },
        "id": "acf547aa-4c47-40b5-bf14-0835601a24d7",
        "outputId": "6a6f0438-ed00-4a31-99c6-ff0ab44c2ea4"
      },
      "outputs": [
        {
          "output_type": "display_data",
          "data": {
            "text/plain": [
              "Ground truth:   0%|          | 0/3 [00:00<?, ?it/s]"
            ],
            "application/vnd.jupyter.widget-view+json": {
              "version_major": 2,
              "version_minor": 0,
              "model_id": "55908b9d759942cbb7c2f29d473e14f4"
            }
          },
          "metadata": {}
        }
      ],
      "source": [
        "tss = list(tqdm(ts_it, total=len(dataset), desc=\"Ground truth\"))"
      ]
    },
    {
      "cell_type": "code",
      "execution_count": 115,
      "id": "6a310d3c-961c-412f-983d-039f5e04fbf7",
      "metadata": {
        "id": "6a310d3c-961c-412f-983d-039f5e04fbf7",
        "outputId": "b60925cd-f897-415a-bd0c-358b28de1192",
        "colab": {
          "base_uri": "https://localhost:8080/",
          "height": 526
        }
      },
      "outputs": [
        {
          "output_type": "display_data",
          "data": {
            "text/plain": [
              "<Figure size 2000x1500 with 6 Axes>"
            ],
            "image/png": "[encoded data removed]"
          },
          "metadata": {}
        }
      ],
      "source": [
        "plt.figure(figsize=(20, 15))\n",
        "date_formater = mdates.DateFormatter('%b, %d')\n",
        "plt.rcParams.update({'font.size': 15})\n",
        "\n",
        "# Iterate through the first 9 series, and plot the predicted samples\n",
        "for idx, (forecast, ts) in islice(enumerate(zip(forecasts, tss)), 9):\n",
        "    ax = plt.subplot(3, 3, idx+1)\n",
        "\n",
        "    plt.plot(ts[-4 * prediction_length:].to_timestamp(), label=\"target\", color='b' )\n",
        "    forecast.plot( color='g')\n",
        "    plt.xticks(rotation=60)\n",
        "    ax.xaxis.set_major_formatter(date_formater)\n",
        "    ax.set_title(forecast.item_id)\n",
        "\n",
        "plt.gcf().tight_layout()\n",
        "plt.legend()\n",
        "plt.show()"
      ]
    },
    {
      "cell_type": "code",
      "execution_count": 111,
      "id": "9360f22e-7438-4f5b-a20b-6ab83e25d3c4",
      "metadata": {
        "id": "9360f22e-7438-4f5b-a20b-6ab83e25d3c4",
        "outputId": "19560fd9-494f-4a64-b628-403271b27ab7",
        "colab": {
          "base_uri": "https://localhost:8080/"
        }
      },
      "outputs": [
        {
          "output_type": "stream",
          "name": "stderr",
          "text": [
            "Running evaluation: 6it [00:00, 330.82it/s]\n"
          ]
        }
      ],
      "source": [
        "evaluator = Evaluator()\n",
        "agg_metrics, ts_metrics = evaluator(iter(tss), iter(forecasts))"
      ]
    },
    {
      "cell_type": "code",
      "execution_count": 112,
      "id": "19be712b-c04d-44a6-8dfa-c151f991f78e",
      "metadata": {
        "id": "19be712b-c04d-44a6-8dfa-c151f991f78e",
        "outputId": "70437919-d7f9-4deb-98f9-4e55f5b27e33",
        "colab": {
          "base_uri": "https://localhost:8080/"
        }
      },
      "outputs": [
        {
          "output_type": "execute_result",
          "data": {
            "text/plain": [
              "{'MSE': np.float64(0.29347622372771204),\n",
              " 'abs_error': np.float64(26.17524893861264),\n",
              " 'abs_target_sum': np.float64(1316.4785988777876),\n",
              " 'abs_target_mean': np.float64(16.87793075484343),\n",
              " 'seasonal_error': np.float64(0.02206859294270661),\n",
              " 'MASE': np.float64(267.9117837726065),\n",
              " 'MAPE': np.float64(0.06564695311662479),\n",
              " 'sMAPE': np.float64(0.06260803895883073),\n",
              " 'MSIS': np.float64(8186.609663422588),\n",
              " 'num_masked_target_values': np.float64(0.0),\n",
              " 'QuantileLoss[0.1]': np.float64(15.364096958190204),\n",
              " 'Coverage[0.1]': np.float64(0.3333333333333333),\n",
              " 'QuantileLoss[0.2]': np.float64(20.739015332981946),\n",
              " 'Coverage[0.2]': np.float64(0.3333333333333333),\n",
              " 'QuantileLoss[0.3]': np.float64(23.8102002048865),\n",
              " 'Coverage[0.3]': np.float64(0.358974358974359),\n",
              " 'QuantileLoss[0.4]': np.float64(25.98861222267151),\n",
              " 'Coverage[0.4]': np.float64(0.38461538461538464),\n",
              " 'QuantileLoss[0.5]': np.float64(26.17524905782193),\n",
              " 'Coverage[0.5]': np.float64(0.44871794871794873),\n",
              " 'QuantileLoss[0.6]': np.float64(26.608741872757673),\n",
              " 'Coverage[0.6]': np.float64(0.4615384615384616),\n",
              " 'QuantileLoss[0.7]': np.float64(23.351020844094453),\n",
              " 'Coverage[0.7]': np.float64(0.4743589743589744),\n",
              " 'QuantileLoss[0.8]': np.float64(18.84791347682476),\n",
              " 'Coverage[0.8]': np.float64(0.5128205128205128),\n",
              " 'QuantileLoss[0.9]': np.float64(11.52176247537136),\n",
              " 'Coverage[0.9]': np.float64(0.576923076923077),\n",
              " 'RMSE': np.float64(0.5417344586859064),\n",
              " 'NRMSE': np.float64(0.032097208274802634),\n",
              " 'ND': np.float64(0.01988277588479246),\n",
              " 'wQuantileLoss[0.1]': np.float64(0.011670601384091695),\n",
              " 'wQuantileLoss[0.2]': np.float64(0.015753401043253273),\n",
              " 'wQuantileLoss[0.3]': np.float64(0.018086279735335727),\n",
              " 'wQuantileLoss[0.4]': np.float64(0.019741006230427984),\n",
              " 'wQuantileLoss[0.5]': np.float64(0.019882775975344096),\n",
              " 'wQuantileLoss[0.6]': np.float64(0.020212058058095207),\n",
              " 'wQuantileLoss[0.7]': np.float64(0.017737486096621458),\n",
              " 'wQuantileLoss[0.8]': np.float64(0.014316915970294832),\n",
              " 'wQuantileLoss[0.9]': np.float64(0.008751955774437135),\n",
              " 'mean_absolute_QuantileLoss': np.float64(21.378512493955593),\n",
              " 'mean_wQuantileLoss': np.float64(0.016239164474211268),\n",
              " 'MAE_Coverage': np.float64(0.23076923076923073),\n",
              " 'OWA': nan}"
            ]
          },
          "metadata": {},
          "execution_count": 112
        }
      ],
      "source": [
        "agg_metrics #old"
      ]
    },
    {
      "cell_type": "code",
      "execution_count": 77,
      "id": "7e828749-354e-441a-bded-af2b254d6e14",
      "metadata": {
        "id": "7e828749-354e-441a-bded-af2b254d6e14",
        "colab": {
          "base_uri": "https://localhost:8080/"
        },
        "outputId": "d2f70a3e-2aa2-4e59-8d39-2775e8ae152e"
      },
      "outputs": [
        {
          "output_type": "execute_result",
          "data": {
            "text/plain": [
              "{'MSE': np.float64(0.22336231623195638),\n",
              " 'abs_error': np.float64(19.31855797767639),\n",
              " 'abs_target_sum': np.float64(1306.121940717101),\n",
              " 'abs_target_mean': np.float64(16.74515308611668),\n",
              " 'seasonal_error': np.float64(0.16776286794936843),\n",
              " 'MASE': np.float64(1.6076078545611476),\n",
              " 'MAPE': np.float64(0.011607812287715765),\n",
              " 'sMAPE': np.float64(0.011679196778016212),\n",
              " 'MSIS': np.float64(20.491783108424265),\n",
              " 'num_masked_target_values': np.float64(0.0),\n",
              " 'QuantileLoss[0.1]': np.float64(8.980524956062437),\n",
              " 'Coverage[0.1]': np.float64(0.07692307692307693),\n",
              " 'QuantileLoss[0.2]': np.float64(14.405949026346207),\n",
              " 'Coverage[0.2]': np.float64(0.12820512820512822),\n",
              " 'QuantileLoss[0.3]': np.float64(17.339868161827326),\n",
              " 'Coverage[0.3]': np.float64(0.21794871794871798),\n",
              " 'QuantileLoss[0.4]': np.float64(19.1963324919343),\n",
              " 'Coverage[0.4]': np.float64(0.3461538461538461),\n",
              " 'QuantileLoss[0.5]': np.float64(19.31855797767639),\n",
              " 'Coverage[0.5]': np.float64(0.4871794871794872),\n",
              " 'QuantileLoss[0.6]': np.float64(19.227175278216603),\n",
              " 'Coverage[0.6]': np.float64(0.564102564102564),\n",
              " 'QuantileLoss[0.7]': np.float64(17.691707884147764),\n",
              " 'Coverage[0.7]': np.float64(0.6666666666666666),\n",
              " 'QuantileLoss[0.8]': np.float64(15.31217936500907),\n",
              " 'Coverage[0.8]': np.float64(0.7307692307692308),\n",
              " 'QuantileLoss[0.9]': np.float64(10.566722743958234),\n",
              " 'Coverage[0.9]': np.float64(0.8333333333333334),\n",
              " 'RMSE': np.float64(0.47261222607118025),\n",
              " 'NRMSE': np.float64(0.02822382235866333),\n",
              " 'ND': np.float64(0.014790776707318697),\n",
              " 'wQuantileLoss[0.1]': np.float64(0.006875717095091331),\n",
              " 'wQuantileLoss[0.2]': np.float64(0.011029559015322028),\n",
              " 'wQuantileLoss[0.3]': np.float64(0.013275841727539777),\n",
              " 'wQuantileLoss[0.4]': np.float64(0.014697197783382248),\n",
              " 'wQuantileLoss[0.5]': np.float64(0.014790776707318697),\n",
              " 'wQuantileLoss[0.6]': np.float64(0.01472081180081876),\n",
              " 'wQuantileLoss[0.7]': np.float64(0.013545219119766468),\n",
              " 'wQuantileLoss[0.8]': np.float64(0.011723391888357845),\n",
              " 'wQuantileLoss[0.9]': np.float64(0.00809015024903171),\n",
              " 'mean_absolute_QuantileLoss': np.float64(15.782113098353149),\n",
              " 'mean_wQuantileLoss': np.float64(0.012083185042958763),\n",
              " 'MAE_Coverage': np.float64(0.3481481481481482),\n",
              " 'OWA': nan}"
            ]
          },
          "metadata": {},
          "execution_count": 77
        }
      ],
      "source": [
        "agg_metrics #new"
      ]
    },
    {
      "cell_type": "code",
      "source": [],
      "metadata": {
        "id": "sNj-Q_qWxoWc"
      },
      "id": "sNj-Q_qWxoWc",
      "execution_count": null,
      "outputs": []
    }
  ],
  "metadata": {
    "kernelspec": {
      "display_name": "Python 3",
      "name": "python3"
    },
    "language_info": {
      "codemirror_mode": {
        "name": "ipython",
        "version": 3
      },
      "file_extension": ".py",
      "mimetype": "text/x-python",
      "name": "python",
      "nbconvert_exporter": "python",
      "pygments_lexer": "ipython3",
      "version": "3.11.8"
    },
    "colab": {
      "provenance": [],
      "gpuType": "T4"
    },
    "accelerator": "GPU",
    "widgets": {
      "application/vnd.jupyter.widget-state+json": {
        "cb9fb25a195046c2b3f4055703d65d22": {
          "model_module": "@jupyter-widgets/controls",
          "model_name": "HBoxModel",
          "model_module_version": "1.5.0",
          "state": {
            "_dom_classes": [],
            "_model_module": "@jupyter-widgets/controls",
            "_model_module_version": "1.5.0",
            "_model_name": "HBoxModel",
            "_view_count": null,
            "_view_module": "@jupyter-widgets/controls",
            "_view_module_version": "1.5.0",
            "_view_name": "HBoxView",
            "box_style": "",
            "children": [
              "IPY_MODEL_3ffb67e6190541a68f26dab693e22077",
              "IPY_MODEL_e04bdc8ec2dc48c2b4b77e750805cdbb",
              "IPY_MODEL_ae8013122ed34acaacf292679e489ee3"
            ],
            "layout": "IPY_MODEL_4e1f9d2936f446adbab25aa193a19d17"
          }
        },
        "3ffb67e6190541a68f26dab693e22077": {
          "model_module": "@jupyter-widgets/controls",
          "model_name": "HTMLModel",
          "model_module_version": "1.5.0",
          "state": {
            "_dom_classes": [],
            "_model_module": "@jupyter-widgets/controls",
            "_model_module_version": "1.5.0",
            "_model_name": "HTMLModel",
            "_view_count": null,
            "_view_module": "@jupyter-widgets/controls",
            "_view_module_version": "1.5.0",
            "_view_name": "HTMLView",
            "description": "",
            "description_tooltip": null,
            "layout": "IPY_MODEL_18d9c67fb07642959f929077c28698d8",
            "placeholder": "​",
            "style": "IPY_MODEL_3bd2b3faf45c46fcac13b1ba79cf7ca4",
            "value": "Forecasting batches: 100%"
          }
        },
        "e04bdc8ec2dc48c2b4b77e750805cdbb": {
          "model_module": "@jupyter-widgets/controls",
          "model_name": "FloatProgressModel",
          "model_module_version": "1.5.0",
          "state": {
            "_dom_classes": [],
            "_model_module": "@jupyter-widgets/controls",
            "_model_module_version": "1.5.0",
            "_model_name": "FloatProgressModel",
            "_view_count": null,
            "_view_module": "@jupyter-widgets/controls",
            "_view_module_version": "1.5.0",
            "_view_name": "ProgressView",
            "bar_style": "success",
            "description": "",
            "description_tooltip": null,
            "layout": "IPY_MODEL_6e6e25ed65a544ec91469a4dc2a3abb6",
            "max": 359,
            "min": 0,
            "orientation": "horizontal",
            "style": "IPY_MODEL_9a332de7833f479aa655ac625ecdc490",
            "value": 359
          }
        },
        "ae8013122ed34acaacf292679e489ee3": {
          "model_module": "@jupyter-widgets/controls",
          "model_name": "HTMLModel",
          "model_module_version": "1.5.0",
          "state": {
            "_dom_classes": [],
            "_model_module": "@jupyter-widgets/controls",
            "_model_module_version": "1.5.0",
            "_model_name": "HTMLModel",
            "_view_count": null,
            "_view_module": "@jupyter-widgets/controls",
            "_view_module_version": "1.5.0",
            "_view_name": "HTMLView",
            "description": "",
            "description_tooltip": null,
            "layout": "IPY_MODEL_03b4b4a282a54bfa87205c0748f4fed3",
            "placeholder": "​",
            "style": "IPY_MODEL_bd4860b66a3840828100524775ccdef5",
            "value": " 359/359 [00:14&lt;00:00, 27.99it/s]"
          }
        },
        "4e1f9d2936f446adbab25aa193a19d17": {
          "model_module": "@jupyter-widgets/base",
          "model_name": "LayoutModel",
          "model_module_version": "1.2.0",
          "state": {
            "_model_module": "@jupyter-widgets/base",
            "_model_module_version": "1.2.0",
            "_model_name": "LayoutModel",
            "_view_count": null,
            "_view_module": "@jupyter-widgets/base",
            "_view_module_version": "1.2.0",
            "_view_name": "LayoutView",
            "align_content": null,
            "align_items": null,
            "align_self": null,
            "border": null,
            "bottom": null,
            "display": null,
            "flex": null,
            "flex_flow": null,
            "grid_area": null,
            "grid_auto_columns": null,
            "grid_auto_flow": null,
            "grid_auto_rows": null,
            "grid_column": null,
            "grid_gap": null,
            "grid_row": null,
            "grid_template_areas": null,
            "grid_template_columns": null,
            "grid_template_rows": null,
            "height": null,
            "justify_content": null,
            "justify_items": null,
            "left": null,
            "margin": null,
            "max_height": null,
            "max_width": null,
            "min_height": null,
            "min_width": null,
            "object_fit": null,
            "object_position": null,
            "order": null,
            "overflow": null,
            "overflow_x": null,
            "overflow_y": null,
            "padding": null,
            "right": null,
            "top": null,
            "visibility": null,
            "width": null
          }
        },
        "18d9c67fb07642959f929077c28698d8": {
          "model_module": "@jupyter-widgets/base",
          "model_name": "LayoutModel",
          "model_module_version": "1.2.0",
          "state": {
            "_model_module": "@jupyter-widgets/base",
            "_model_module_version": "1.2.0",
            "_model_name": "LayoutModel",
            "_view_count": null,
            "_view_module": "@jupyter-widgets/base",
            "_view_module_version": "1.2.0",
            "_view_name": "LayoutView",
            "align_content": null,
            "align_items": null,
            "align_self": null,
            "border": null,
            "bottom": null,
            "display": null,
            "flex": null,
            "flex_flow": null,
            "grid_area": null,
            "grid_auto_columns": null,
            "grid_auto_flow": null,
            "grid_auto_rows": null,
            "grid_column": null,
            "grid_gap": null,
            "grid_row": null,
            "grid_template_areas": null,
            "grid_template_columns": null,
            "grid_template_rows": null,
            "height": null,
            "justify_content": null,
            "justify_items": null,
            "left": null,
            "margin": null,
            "max_height": null,
            "max_width": null,
            "min_height": null,
            "min_width": null,
            "object_fit": null,
            "object_position": null,
            "order": null,
            "overflow": null,
            "overflow_x": null,
            "overflow_y": null,
            "padding": null,
            "right": null,
            "top": null,
            "visibility": null,
            "width": null
          }
        },
        "3bd2b3faf45c46fcac13b1ba79cf7ca4": {
          "model_module": "@jupyter-widgets/controls",
          "model_name": "DescriptionStyleModel",
          "model_module_version": "1.5.0",
          "state": {
            "_model_module": "@jupyter-widgets/controls",
            "_model_module_version": "1.5.0",
            "_model_name": "DescriptionStyleModel",
            "_view_count": null,
            "_view_module": "@jupyter-widgets/base",
            "_view_module_version": "1.2.0",
            "_view_name": "StyleView",
            "description_width": ""
          }
        },
        "6e6e25ed65a544ec91469a4dc2a3abb6": {
          "model_module": "@jupyter-widgets/base",
          "model_name": "LayoutModel",
          "model_module_version": "1.2.0",
          "state": {
            "_model_module": "@jupyter-widgets/base",
            "_model_module_version": "1.2.0",
            "_model_name": "LayoutModel",
            "_view_count": null,
            "_view_module": "@jupyter-widgets/base",
            "_view_module_version": "1.2.0",
            "_view_name": "LayoutView",
            "align_content": null,
            "align_items": null,
            "align_self": null,
            "border": null,
            "bottom": null,
            "display": null,
            "flex": null,
            "flex_flow": null,
            "grid_area": null,
            "grid_auto_columns": null,
            "grid_auto_flow": null,
            "grid_auto_rows": null,
            "grid_column": null,
            "grid_gap": null,
            "grid_row": null,
            "grid_template_areas": null,
            "grid_template_columns": null,
            "grid_template_rows": null,
            "height": null,
            "justify_content": null,
            "justify_items": null,
            "left": null,
            "margin": null,
            "max_height": null,
            "max_width": null,
            "min_height": null,
            "min_width": null,
            "object_fit": null,
            "object_position": null,
            "order": null,
            "overflow": null,
            "overflow_x": null,
            "overflow_y": null,
            "padding": null,
            "right": null,
            "top": null,
            "visibility": null,
            "width": null
          }
        },
        "9a332de7833f479aa655ac625ecdc490": {
          "model_module": "@jupyter-widgets/controls",
          "model_name": "ProgressStyleModel",
          "model_module_version": "1.5.0",
          "state": {
            "_model_module": "@jupyter-widgets/controls",
            "_model_module_version": "1.5.0",
            "_model_name": "ProgressStyleModel",
            "_view_count": null,
            "_view_module": "@jupyter-widgets/base",
            "_view_module_version": "1.2.0",
            "_view_name": "StyleView",
            "bar_color": null,
            "description_width": ""
          }
        },
        "03b4b4a282a54bfa87205c0748f4fed3": {
          "model_module": "@jupyter-widgets/base",
          "model_name": "LayoutModel",
          "model_module_version": "1.2.0",
          "state": {
            "_model_module": "@jupyter-widgets/base",
            "_model_module_version": "1.2.0",
            "_model_name": "LayoutModel",
            "_view_count": null,
            "_view_module": "@jupyter-widgets/base",
            "_view_module_version": "1.2.0",
            "_view_name": "LayoutView",
            "align_content": null,
            "align_items": null,
            "align_self": null,
            "border": null,
            "bottom": null,
            "display": null,
            "flex": null,
            "flex_flow": null,
            "grid_area": null,
            "grid_auto_columns": null,
            "grid_auto_flow": null,
            "grid_auto_rows": null,
            "grid_column": null,
            "grid_gap": null,
            "grid_row": null,
            "grid_template_areas": null,
            "grid_template_columns": null,
            "grid_template_rows": null,
            "height": null,
            "justify_content": null,
            "justify_items": null,
            "left": null,
            "margin": null,
            "max_height": null,
            "max_width": null,
            "min_height": null,
            "min_width": null,
            "object_fit": null,
            "object_position": null,
            "order": null,
            "overflow": null,
            "overflow_x": null,
            "overflow_y": null,
            "padding": null,
            "right": null,
            "top": null,
            "visibility": null,
            "width": null
          }
        },
        "bd4860b66a3840828100524775ccdef5": {
          "model_module": "@jupyter-widgets/controls",
          "model_name": "DescriptionStyleModel",
          "model_module_version": "1.5.0",
          "state": {
            "_model_module": "@jupyter-widgets/controls",
            "_model_module_version": "1.5.0",
            "_model_name": "DescriptionStyleModel",
            "_view_count": null,
            "_view_module": "@jupyter-widgets/base",
            "_view_module_version": "1.2.0",
            "_view_name": "StyleView",
            "description_width": ""
          }
        },
        "35135c6bedec41f0bd689e332031d820": {
          "model_module": "@jupyter-widgets/controls",
          "model_name": "HBoxModel",
          "model_module_version": "1.5.0",
          "state": {
            "_dom_classes": [],
            "_model_module": "@jupyter-widgets/controls",
            "_model_module_version": "1.5.0",
            "_model_name": "HBoxModel",
            "_view_count": null,
            "_view_module": "@jupyter-widgets/controls",
            "_view_module_version": "1.5.0",
            "_view_name": "HBoxView",
            "box_style": "",
            "children": [
              "IPY_MODEL_a374f666dc034886830c1a963a5dc885",
              "IPY_MODEL_657de6770c97402a8373d25aa471ebb5",
              "IPY_MODEL_14e527788a854dc2bc51d0071f876352"
            ],
            "layout": "IPY_MODEL_7a67218391f94a00a827d324cc581190"
          }
        },
        "a374f666dc034886830c1a963a5dc885": {
          "model_module": "@jupyter-widgets/controls",
          "model_name": "HTMLModel",
          "model_module_version": "1.5.0",
          "state": {
            "_dom_classes": [],
            "_model_module": "@jupyter-widgets/controls",
            "_model_module_version": "1.5.0",
            "_model_name": "HTMLModel",
            "_view_count": null,
            "_view_module": "@jupyter-widgets/controls",
            "_view_module_version": "1.5.0",
            "_view_name": "HTMLView",
            "description": "",
            "description_tooltip": null,
            "layout": "IPY_MODEL_588434d152624ddfa205147c340a831b",
            "placeholder": "​",
            "style": "IPY_MODEL_c83db572a719446c9b585e36eab47637",
            "value": "Ground truth: 100%"
          }
        },
        "657de6770c97402a8373d25aa471ebb5": {
          "model_module": "@jupyter-widgets/controls",
          "model_name": "FloatProgressModel",
          "model_module_version": "1.5.0",
          "state": {
            "_dom_classes": [],
            "_model_module": "@jupyter-widgets/controls",
            "_model_module_version": "1.5.0",
            "_model_name": "FloatProgressModel",
            "_view_count": null,
            "_view_module": "@jupyter-widgets/controls",
            "_view_module_version": "1.5.0",
            "_view_name": "ProgressView",
            "bar_style": "success",
            "description": "",
            "description_tooltip": null,
            "layout": "IPY_MODEL_663a11d2d58946eba06f137b07425e73",
            "max": 359,
            "min": 0,
            "orientation": "horizontal",
            "style": "IPY_MODEL_3d2fd10bf9a74abca4f862ff92460ae3",
            "value": 359
          }
        },
        "14e527788a854dc2bc51d0071f876352": {
          "model_module": "@jupyter-widgets/controls",
          "model_name": "HTMLModel",
          "model_module_version": "1.5.0",
          "state": {
            "_dom_classes": [],
            "_model_module": "@jupyter-widgets/controls",
            "_model_module_version": "1.5.0",
            "_model_name": "HTMLModel",
            "_view_count": null,
            "_view_module": "@jupyter-widgets/controls",
            "_view_module_version": "1.5.0",
            "_view_name": "HTMLView",
            "description": "",
            "description_tooltip": null,
            "layout": "IPY_MODEL_6fc693cf3ada4da7a00f0c2d60301f30",
            "placeholder": "​",
            "style": "IPY_MODEL_fa6b2f98625c49aea7ecea4b7a6c844b",
            "value": " 359/359 [00:00&lt;00:00, 1500.91it/s]"
          }
        },
        "7a67218391f94a00a827d324cc581190": {
          "model_module": "@jupyter-widgets/base",
          "model_name": "LayoutModel",
          "model_module_version": "1.2.0",
          "state": {
            "_model_module": "@jupyter-widgets/base",
            "_model_module_version": "1.2.0",
            "_model_name": "LayoutModel",
            "_view_count": null,
            "_view_module": "@jupyter-widgets/base",
            "_view_module_version": "1.2.0",
            "_view_name": "LayoutView",
            "align_content": null,
            "align_items": null,
            "align_self": null,
            "border": null,
            "bottom": null,
            "display": null,
            "flex": null,
            "flex_flow": null,
            "grid_area": null,
            "grid_auto_columns": null,
            "grid_auto_flow": null,
            "grid_auto_rows": null,
            "grid_column": null,
            "grid_gap": null,
            "grid_row": null,
            "grid_template_areas": null,
            "grid_template_columns": null,
            "grid_template_rows": null,
            "height": null,
            "justify_content": null,
            "justify_items": null,
            "left": null,
            "margin": null,
            "max_height": null,
            "max_width": null,
            "min_height": null,
            "min_width": null,
            "object_fit": null,
            "object_position": null,
            "order": null,
            "overflow": null,
            "overflow_x": null,
            "overflow_y": null,
            "padding": null,
            "right": null,
            "top": null,
            "visibility": null,
            "width": null
          }
        },
        "588434d152624ddfa205147c340a831b": {
          "model_module": "@jupyter-widgets/base",
          "model_name": "LayoutModel",
          "model_module_version": "1.2.0",
          "state": {
            "_model_module": "@jupyter-widgets/base",
            "_model_module_version": "1.2.0",
            "_model_name": "LayoutModel",
            "_view_count": null,
            "_view_module": "@jupyter-widgets/base",
            "_view_module_version": "1.2.0",
            "_view_name": "LayoutView",
            "align_content": null,
            "align_items": null,
            "align_self": null,
            "border": null,
            "bottom": null,
            "display": null,
            "flex": null,
            "flex_flow": null,
            "grid_area": null,
            "grid_auto_columns": null,
            "grid_auto_flow": null,
            "grid_auto_rows": null,
            "grid_column": null,
            "grid_gap": null,
            "grid_row": null,
            "grid_template_areas": null,
            "grid_template_columns": null,
            "grid_template_rows": null,
            "height": null,
            "justify_content": null,
            "justify_items": null,
            "left": null,
            "margin": null,
            "max_height": null,
            "max_width": null,
            "min_height": null,
            "min_width": null,
            "object_fit": null,
            "object_position": null,
            "order": null,
            "overflow": null,
            "overflow_x": null,
            "overflow_y": null,
            "padding": null,
            "right": null,
            "top": null,
            "visibility": null,
            "width": null
          }
        },
        "c83db572a719446c9b585e36eab47637": {
          "model_module": "@jupyter-widgets/controls",
          "model_name": "DescriptionStyleModel",
          "model_module_version": "1.5.0",
          "state": {
            "_model_module": "@jupyter-widgets/controls",
            "_model_module_version": "1.5.0",
            "_model_name": "DescriptionStyleModel",
            "_view_count": null,
            "_view_module": "@jupyter-widgets/base",
            "_view_module_version": "1.2.0",
            "_view_name": "StyleView",
            "description_width": ""
          }
        },
        "663a11d2d58946eba06f137b07425e73": {
          "model_module": "@jupyter-widgets/base",
          "model_name": "LayoutModel",
          "model_module_version": "1.2.0",
          "state": {
            "_model_module": "@jupyter-widgets/base",
            "_model_module_version": "1.2.0",
            "_model_name": "LayoutModel",
            "_view_count": null,
            "_view_module": "@jupyter-widgets/base",
            "_view_module_version": "1.2.0",
            "_view_name": "LayoutView",
            "align_content": null,
            "align_items": null,
            "align_self": null,
            "border": null,
            "bottom": null,
            "display": null,
            "flex": null,
            "flex_flow": null,
            "grid_area": null,
            "grid_auto_columns": null,
            "grid_auto_flow": null,
            "grid_auto_rows": null,
            "grid_column": null,
            "grid_gap": null,
            "grid_row": null,
            "grid_template_areas": null,
            "grid_template_columns": null,
            "grid_template_rows": null,
            "height": null,
            "justify_content": null,
            "justify_items": null,
            "left": null,
            "margin": null,
            "max_height": null,
            "max_width": null,
            "min_height": null,
            "min_width": null,
            "object_fit": null,
            "object_position": null,
            "order": null,
            "overflow": null,
            "overflow_x": null,
            "overflow_y": null,
            "padding": null,
            "right": null,
            "top": null,
            "visibility": null,
            "width": null
          }
        },
        "3d2fd10bf9a74abca4f862ff92460ae3": {
          "model_module": "@jupyter-widgets/controls",
          "model_name": "ProgressStyleModel",
          "model_module_version": "1.5.0",
          "state": {
            "_model_module": "@jupyter-widgets/controls",
            "_model_module_version": "1.5.0",
            "_model_name": "ProgressStyleModel",
            "_view_count": null,
            "_view_module": "@jupyter-widgets/base",
            "_view_module_version": "1.2.0",
            "_view_name": "StyleView",
            "bar_color": null,
            "description_width": ""
          }
        },
        "6fc693cf3ada4da7a00f0c2d60301f30": {
          "model_module": "@jupyter-widgets/base",
          "model_name": "LayoutModel",
          "model_module_version": "1.2.0",
          "state": {
            "_model_module": "@jupyter-widgets/base",
            "_model_module_version": "1.2.0",
            "_model_name": "LayoutModel",
            "_view_count": null,
            "_view_module": "@jupyter-widgets/base",
            "_view_module_version": "1.2.0",
            "_view_name": "LayoutView",
            "align_content": null,
            "align_items": null,
            "align_self": null,
            "border": null,
            "bottom": null,
            "display": null,
            "flex": null,
            "flex_flow": null,
            "grid_area": null,
            "grid_auto_columns": null,
            "grid_auto_flow": null,
            "grid_auto_rows": null,
            "grid_column": null,
            "grid_gap": null,
            "grid_row": null,
            "grid_template_areas": null,
            "grid_template_columns": null,
            "grid_template_rows": null,
            "height": null,
            "justify_content": null,
            "justify_items": null,
            "left": null,
            "margin": null,
            "max_height": null,
            "max_width": null,
            "min_height": null,
            "min_width": null,
            "object_fit": null,
            "object_position": null,
            "order": null,
            "overflow": null,
            "overflow_x": null,
            "overflow_y": null,
            "padding": null,
            "right": null,
            "top": null,
            "visibility": null,
            "width": null
          }
        },
        "fa6b2f98625c49aea7ecea4b7a6c844b": {
          "model_module": "@jupyter-widgets/controls",
          "model_name": "DescriptionStyleModel",
          "model_module_version": "1.5.0",
          "state": {
            "_model_module": "@jupyter-widgets/controls",
            "_model_module_version": "1.5.0",
            "_model_name": "DescriptionStyleModel",
            "_view_count": null,
            "_view_module": "@jupyter-widgets/base",
            "_view_module_version": "1.2.0",
            "_view_name": "StyleView",
            "description_width": ""
          }
        },
        "e30cf36b02594849b0db2e6665b28d0b": {
          "model_module": "@jupyter-widgets/controls",
          "model_name": "HBoxModel",
          "model_module_version": "1.5.0",
          "state": {
            "_dom_classes": [],
            "_model_module": "@jupyter-widgets/controls",
            "_model_module_version": "1.5.0",
            "_model_name": "HBoxModel",
            "_view_count": null,
            "_view_module": "@jupyter-widgets/controls",
            "_view_module_version": "1.5.0",
            "_view_name": "HBoxView",
            "box_style": "",
            "children": [
              "IPY_MODEL_e71cb6a71dde46c7833cc75536ed681e",
              "IPY_MODEL_ddf16dd9ea884487ae49187a555d976c",
              "IPY_MODEL_101f2da9ae6a4d18925c94f583aeb7a8"
            ],
            "layout": "IPY_MODEL_e2596446da5c428facfa05b5861f1e86"
          }
        },
        "e71cb6a71dde46c7833cc75536ed681e": {
          "model_module": "@jupyter-widgets/controls",
          "model_name": "HTMLModel",
          "model_module_version": "1.5.0",
          "state": {
            "_dom_classes": [],
            "_model_module": "@jupyter-widgets/controls",
            "_model_module_version": "1.5.0",
            "_model_name": "HTMLModel",
            "_view_count": null,
            "_view_module": "@jupyter-widgets/controls",
            "_view_module_version": "1.5.0",
            "_view_name": "HTMLView",
            "description": "",
            "description_tooltip": null,
            "layout": "IPY_MODEL_9207d6fa203748908072e7018c022e35",
            "placeholder": "​",
            "style": "IPY_MODEL_21614bfbbc844ecf8a0099975eda93b1",
            "value": "Epoch 49: "
          }
        },
        "ddf16dd9ea884487ae49187a555d976c": {
          "model_module": "@jupyter-widgets/controls",
          "model_name": "FloatProgressModel",
          "model_module_version": "1.5.0",
          "state": {
            "_dom_classes": [],
            "_model_module": "@jupyter-widgets/controls",
            "_model_module_version": "1.5.0",
            "_model_name": "FloatProgressModel",
            "_view_count": null,
            "_view_module": "@jupyter-widgets/controls",
            "_view_module_version": "1.5.0",
            "_view_name": "ProgressView",
            "bar_style": "success",
            "description": "",
            "description_tooltip": null,
            "layout": "IPY_MODEL_dd8beebd4325434d96ff45a81f4b28a7",
            "max": 1,
            "min": 0,
            "orientation": "horizontal",
            "style": "IPY_MODEL_4b0f8195e7194f9c99a63ef5a42c334a",
            "value": 1
          }
        },
        "101f2da9ae6a4d18925c94f583aeb7a8": {
          "model_module": "@jupyter-widgets/controls",
          "model_name": "HTMLModel",
          "model_module_version": "1.5.0",
          "state": {
            "_dom_classes": [],
            "_model_module": "@jupyter-widgets/controls",
            "_model_module_version": "1.5.0",
            "_model_name": "HTMLModel",
            "_view_count": null,
            "_view_module": "@jupyter-widgets/controls",
            "_view_module_version": "1.5.0",
            "_view_name": "HTMLView",
            "description": "",
            "description_tooltip": null,
            "layout": "IPY_MODEL_7914804d50b448c398497c8370796574",
            "placeholder": "​",
            "style": "IPY_MODEL_9d5f54a7527b47ce996fde7efda50597",
            "value": " 40/? [00:03&lt;00:00, 13.22it/s, v_num=1]"
          }
        },
        "e2596446da5c428facfa05b5861f1e86": {
          "model_module": "@jupyter-widgets/base",
          "model_name": "LayoutModel",
          "model_module_version": "1.2.0",
          "state": {
            "_model_module": "@jupyter-widgets/base",
            "_model_module_version": "1.2.0",
            "_model_name": "LayoutModel",
            "_view_count": null,
            "_view_module": "@jupyter-widgets/base",
            "_view_module_version": "1.2.0",
            "_view_name": "LayoutView",
            "align_content": null,
            "align_items": null,
            "align_self": null,
            "border": null,
            "bottom": null,
            "display": "inline-flex",
            "flex": null,
            "flex_flow": "row wrap",
            "grid_area": null,
            "grid_auto_columns": null,
            "grid_auto_flow": null,
            "grid_auto_rows": null,
            "grid_column": null,
            "grid_gap": null,
            "grid_row": null,
            "grid_template_areas": null,
            "grid_template_columns": null,
            "grid_template_rows": null,
            "height": null,
            "justify_content": null,
            "justify_items": null,
            "left": null,
            "margin": null,
            "max_height": null,
            "max_width": null,
            "min_height": null,
            "min_width": null,
            "object_fit": null,
            "object_position": null,
            "order": null,
            "overflow": null,
            "overflow_x": null,
            "overflow_y": null,
            "padding": null,
            "right": null,
            "top": null,
            "visibility": null,
            "width": "100%"
          }
        },
        "9207d6fa203748908072e7018c022e35": {
          "model_module": "@jupyter-widgets/base",
          "model_name": "LayoutModel",
          "model_module_version": "1.2.0",
          "state": {
            "_model_module": "@jupyter-widgets/base",
            "_model_module_version": "1.2.0",
            "_model_name": "LayoutModel",
            "_view_count": null,
            "_view_module": "@jupyter-widgets/base",
            "_view_module_version": "1.2.0",
            "_view_name": "LayoutView",
            "align_content": null,
            "align_items": null,
            "align_self": null,
            "border": null,
            "bottom": null,
            "display": null,
            "flex": null,
            "flex_flow": null,
            "grid_area": null,
            "grid_auto_columns": null,
            "grid_auto_flow": null,
            "grid_auto_rows": null,
            "grid_column": null,
            "grid_gap": null,
            "grid_row": null,
            "grid_template_areas": null,
            "grid_template_columns": null,
            "grid_template_rows": null,
            "height": null,
            "justify_content": null,
            "justify_items": null,
            "left": null,
            "margin": null,
            "max_height": null,
            "max_width": null,
            "min_height": null,
            "min_width": null,
            "object_fit": null,
            "object_position": null,
            "order": null,
            "overflow": null,
            "overflow_x": null,
            "overflow_y": null,
            "padding": null,
            "right": null,
            "top": null,
            "visibility": null,
            "width": null
          }
        },
        "21614bfbbc844ecf8a0099975eda93b1": {
          "model_module": "@jupyter-widgets/controls",
          "model_name": "DescriptionStyleModel",
          "model_module_version": "1.5.0",
          "state": {
            "_model_module": "@jupyter-widgets/controls",
            "_model_module_version": "1.5.0",
            "_model_name": "DescriptionStyleModel",
            "_view_count": null,
            "_view_module": "@jupyter-widgets/base",
            "_view_module_version": "1.2.0",
            "_view_name": "StyleView",
            "description_width": ""
          }
        },
        "dd8beebd4325434d96ff45a81f4b28a7": {
          "model_module": "@jupyter-widgets/base",
          "model_name": "LayoutModel",
          "model_module_version": "1.2.0",
          "state": {
            "_model_module": "@jupyter-widgets/base",
            "_model_module_version": "1.2.0",
            "_model_name": "LayoutModel",
            "_view_count": null,
            "_view_module": "@jupyter-widgets/base",
            "_view_module_version": "1.2.0",
            "_view_name": "LayoutView",
            "align_content": null,
            "align_items": null,
            "align_self": null,
            "border": null,
            "bottom": null,
            "display": null,
            "flex": "2",
            "flex_flow": null,
            "grid_area": null,
            "grid_auto_columns": null,
            "grid_auto_flow": null,
            "grid_auto_rows": null,
            "grid_column": null,
            "grid_gap": null,
            "grid_row": null,
            "grid_template_areas": null,
            "grid_template_columns": null,
            "grid_template_rows": null,
            "height": null,
            "justify_content": null,
            "justify_items": null,
            "left": null,
            "margin": null,
            "max_height": null,
            "max_width": null,
            "min_height": null,
            "min_width": null,
            "object_fit": null,
            "object_position": null,
            "order": null,
            "overflow": null,
            "overflow_x": null,
            "overflow_y": null,
            "padding": null,
            "right": null,
            "top": null,
            "visibility": null,
            "width": null
          }
        },
        "4b0f8195e7194f9c99a63ef5a42c334a": {
          "model_module": "@jupyter-widgets/controls",
          "model_name": "ProgressStyleModel",
          "model_module_version": "1.5.0",
          "state": {
            "_model_module": "@jupyter-widgets/controls",
            "_model_module_version": "1.5.0",
            "_model_name": "ProgressStyleModel",
            "_view_count": null,
            "_view_module": "@jupyter-widgets/base",
            "_view_module_version": "1.2.0",
            "_view_name": "StyleView",
            "bar_color": null,
            "description_width": ""
          }
        },
        "7914804d50b448c398497c8370796574": {
          "model_module": "@jupyter-widgets/base",
          "model_name": "LayoutModel",
          "model_module_version": "1.2.0",
          "state": {
            "_model_module": "@jupyter-widgets/base",
            "_model_module_version": "1.2.0",
            "_model_name": "LayoutModel",
            "_view_count": null,
            "_view_module": "@jupyter-widgets/base",
            "_view_module_version": "1.2.0",
            "_view_name": "LayoutView",
            "align_content": null,
            "align_items": null,
            "align_self": null,
            "border": null,
            "bottom": null,
            "display": null,
            "flex": null,
            "flex_flow": null,
            "grid_area": null,
            "grid_auto_columns": null,
            "grid_auto_flow": null,
            "grid_auto_rows": null,
            "grid_column": null,
            "grid_gap": null,
            "grid_row": null,
            "grid_template_areas": null,
            "grid_template_columns": null,
            "grid_template_rows": null,
            "height": null,
            "justify_content": null,
            "justify_items": null,
            "left": null,
            "margin": null,
            "max_height": null,
            "max_width": null,
            "min_height": null,
            "min_width": null,
            "object_fit": null,
            "object_position": null,
            "order": null,
            "overflow": null,
            "overflow_x": null,
            "overflow_y": null,
            "padding": null,
            "right": null,
            "top": null,
            "visibility": null,
            "width": null
          }
        },
        "9d5f54a7527b47ce996fde7efda50597": {
          "model_module": "@jupyter-widgets/controls",
          "model_name": "DescriptionStyleModel",
          "model_module_version": "1.5.0",
          "state": {
            "_model_module": "@jupyter-widgets/controls",
            "_model_module_version": "1.5.0",
            "_model_name": "DescriptionStyleModel",
            "_view_count": null,
            "_view_module": "@jupyter-widgets/base",
            "_view_module_version": "1.2.0",
            "_view_name": "StyleView",
            "description_width": ""
          }
        },
        "3d537205d7254be8b06d35072cd12397": {
          "model_module": "@jupyter-widgets/controls",
          "model_name": "HBoxModel",
          "model_module_version": "1.5.0",
          "state": {
            "_dom_classes": [],
            "_model_module": "@jupyter-widgets/controls",
            "_model_module_version": "1.5.0",
            "_model_name": "HBoxModel",
            "_view_count": null,
            "_view_module": "@jupyter-widgets/controls",
            "_view_module_version": "1.5.0",
            "_view_name": "HBoxView",
            "box_style": "",
            "children": [
              "IPY_MODEL_d4590aaa84e34bc9a28943bafb00180e",
              "IPY_MODEL_db8b3638aef648d1ba84d0aff73e686a",
              "IPY_MODEL_6299d04dc72c4f3d98bb05e15dbd73ce"
            ],
            "layout": "IPY_MODEL_d49c5bdba02946d4ab30da59a2dfe959"
          }
        },
        "d4590aaa84e34bc9a28943bafb00180e": {
          "model_module": "@jupyter-widgets/controls",
          "model_name": "HTMLModel",
          "model_module_version": "1.5.0",
          "state": {
            "_dom_classes": [],
            "_model_module": "@jupyter-widgets/controls",
            "_model_module_version": "1.5.0",
            "_model_name": "HTMLModel",
            "_view_count": null,
            "_view_module": "@jupyter-widgets/controls",
            "_view_module_version": "1.5.0",
            "_view_name": "HTMLView",
            "description": "",
            "description_tooltip": null,
            "layout": "IPY_MODEL_070dbc85fd1441fc80926eb7c4ba8ddd",
            "placeholder": "​",
            "style": "IPY_MODEL_4f5fde5170d044d5aaafe4f15e66695d",
            "value": "Forecasting batches: "
          }
        },
        "db8b3638aef648d1ba84d0aff73e686a": {
          "model_module": "@jupyter-widgets/controls",
          "model_name": "FloatProgressModel",
          "model_module_version": "1.5.0",
          "state": {
            "_dom_classes": [],
            "_model_module": "@jupyter-widgets/controls",
            "_model_module_version": "1.5.0",
            "_model_name": "FloatProgressModel",
            "_view_count": null,
            "_view_module": "@jupyter-widgets/controls",
            "_view_module_version": "1.5.0",
            "_view_name": "ProgressView",
            "bar_style": "success",
            "description": "",
            "description_tooltip": null,
            "layout": "IPY_MODEL_c763271e3a254a7fb2e263fdfd1a07d2",
            "max": 3,
            "min": 0,
            "orientation": "horizontal",
            "style": "IPY_MODEL_f56cb913eb344eaaae7387186475cd49",
            "value": 3
          }
        },
        "6299d04dc72c4f3d98bb05e15dbd73ce": {
          "model_module": "@jupyter-widgets/controls",
          "model_name": "HTMLModel",
          "model_module_version": "1.5.0",
          "state": {
            "_dom_classes": [],
            "_model_module": "@jupyter-widgets/controls",
            "_model_module_version": "1.5.0",
            "_model_name": "HTMLModel",
            "_view_count": null,
            "_view_module": "@jupyter-widgets/controls",
            "_view_module_version": "1.5.0",
            "_view_name": "HTMLView",
            "description": "",
            "description_tooltip": null,
            "layout": "IPY_MODEL_2716e210081647838edba0b055e0d283",
            "placeholder": "​",
            "style": "IPY_MODEL_f88c99bb2b904fbe97a73b47157ac26c",
            "value": " 6/? [00:00&lt;00:00,  2.83it/s]"
          }
        },
        "d49c5bdba02946d4ab30da59a2dfe959": {
          "model_module": "@jupyter-widgets/base",
          "model_name": "LayoutModel",
          "model_module_version": "1.2.0",
          "state": {
            "_model_module": "@jupyter-widgets/base",
            "_model_module_version": "1.2.0",
            "_model_name": "LayoutModel",
            "_view_count": null,
            "_view_module": "@jupyter-widgets/base",
            "_view_module_version": "1.2.0",
            "_view_name": "LayoutView",
            "align_content": null,
            "align_items": null,
            "align_self": null,
            "border": null,
            "bottom": null,
            "display": null,
            "flex": null,
            "flex_flow": null,
            "grid_area": null,
            "grid_auto_columns": null,
            "grid_auto_flow": null,
            "grid_auto_rows": null,
            "grid_column": null,
            "grid_gap": null,
            "grid_row": null,
            "grid_template_areas": null,
            "grid_template_columns": null,
            "grid_template_rows": null,
            "height": null,
            "justify_content": null,
            "justify_items": null,
            "left": null,
            "margin": null,
            "max_height": null,
            "max_width": null,
            "min_height": null,
            "min_width": null,
            "object_fit": null,
            "object_position": null,
            "order": null,
            "overflow": null,
            "overflow_x": null,
            "overflow_y": null,
            "padding": null,
            "right": null,
            "top": null,
            "visibility": null,
            "width": null
          }
        },
        "070dbc85fd1441fc80926eb7c4ba8ddd": {
          "model_module": "@jupyter-widgets/base",
          "model_name": "LayoutModel",
          "model_module_version": "1.2.0",
          "state": {
            "_model_module": "@jupyter-widgets/base",
            "_model_module_version": "1.2.0",
            "_model_name": "LayoutModel",
            "_view_count": null,
            "_view_module": "@jupyter-widgets/base",
            "_view_module_version": "1.2.0",
            "_view_name": "LayoutView",
            "align_content": null,
            "align_items": null,
            "align_self": null,
            "border": null,
            "bottom": null,
            "display": null,
            "flex": null,
            "flex_flow": null,
            "grid_area": null,
            "grid_auto_columns": null,
            "grid_auto_flow": null,
            "grid_auto_rows": null,
            "grid_column": null,
            "grid_gap": null,
            "grid_row": null,
            "grid_template_areas": null,
            "grid_template_columns": null,
            "grid_template_rows": null,
            "height": null,
            "justify_content": null,
            "justify_items": null,
            "left": null,
            "margin": null,
            "max_height": null,
            "max_width": null,
            "min_height": null,
            "min_width": null,
            "object_fit": null,
            "object_position": null,
            "order": null,
            "overflow": null,
            "overflow_x": null,
            "overflow_y": null,
            "padding": null,
            "right": null,
            "top": null,
            "visibility": null,
            "width": null
          }
        },
        "4f5fde5170d044d5aaafe4f15e66695d": {
          "model_module": "@jupyter-widgets/controls",
          "model_name": "DescriptionStyleModel",
          "model_module_version": "1.5.0",
          "state": {
            "_model_module": "@jupyter-widgets/controls",
            "_model_module_version": "1.5.0",
            "_model_name": "DescriptionStyleModel",
            "_view_count": null,
            "_view_module": "@jupyter-widgets/base",
            "_view_module_version": "1.2.0",
            "_view_name": "StyleView",
            "description_width": ""
          }
        },
        "c763271e3a254a7fb2e263fdfd1a07d2": {
          "model_module": "@jupyter-widgets/base",
          "model_name": "LayoutModel",
          "model_module_version": "1.2.0",
          "state": {
            "_model_module": "@jupyter-widgets/base",
            "_model_module_version": "1.2.0",
            "_model_name": "LayoutModel",
            "_view_count": null,
            "_view_module": "@jupyter-widgets/base",
            "_view_module_version": "1.2.0",
            "_view_name": "LayoutView",
            "align_content": null,
            "align_items": null,
            "align_self": null,
            "border": null,
            "bottom": null,
            "display": null,
            "flex": null,
            "flex_flow": null,
            "grid_area": null,
            "grid_auto_columns": null,
            "grid_auto_flow": null,
            "grid_auto_rows": null,
            "grid_column": null,
            "grid_gap": null,
            "grid_row": null,
            "grid_template_areas": null,
            "grid_template_columns": null,
            "grid_template_rows": null,
            "height": null,
            "justify_content": null,
            "justify_items": null,
            "left": null,
            "margin": null,
            "max_height": null,
            "max_width": null,
            "min_height": null,
            "min_width": null,
            "object_fit": null,
            "object_position": null,
            "order": null,
            "overflow": null,
            "overflow_x": null,
            "overflow_y": null,
            "padding": null,
            "right": null,
            "top": null,
            "visibility": null,
            "width": null
          }
        },
        "f56cb913eb344eaaae7387186475cd49": {
          "model_module": "@jupyter-widgets/controls",
          "model_name": "ProgressStyleModel",
          "model_module_version": "1.5.0",
          "state": {
            "_model_module": "@jupyter-widgets/controls",
            "_model_module_version": "1.5.0",
            "_model_name": "ProgressStyleModel",
            "_view_count": null,
            "_view_module": "@jupyter-widgets/base",
            "_view_module_version": "1.2.0",
            "_view_name": "StyleView",
            "bar_color": null,
            "description_width": ""
          }
        },
        "2716e210081647838edba0b055e0d283": {
          "model_module": "@jupyter-widgets/base",
          "model_name": "LayoutModel",
          "model_module_version": "1.2.0",
          "state": {
            "_model_module": "@jupyter-widgets/base",
            "_model_module_version": "1.2.0",
            "_model_name": "LayoutModel",
            "_view_count": null,
            "_view_module": "@jupyter-widgets/base",
            "_view_module_version": "1.2.0",
            "_view_name": "LayoutView",
            "align_content": null,
            "align_items": null,
            "align_self": null,
            "border": null,
            "bottom": null,
            "display": null,
            "flex": null,
            "flex_flow": null,
            "grid_area": null,
            "grid_auto_columns": null,
            "grid_auto_flow": null,
            "grid_auto_rows": null,
            "grid_column": null,
            "grid_gap": null,
            "grid_row": null,
            "grid_template_areas": null,
            "grid_template_columns": null,
            "grid_template_rows": null,
            "height": null,
            "justify_content": null,
            "justify_items": null,
            "left": null,
            "margin": null,
            "max_height": null,
            "max_width": null,
            "min_height": null,
            "min_width": null,
            "object_fit": null,
            "object_position": null,
            "order": null,
            "overflow": null,
            "overflow_x": null,
            "overflow_y": null,
            "padding": null,
            "right": null,
            "top": null,
            "visibility": null,
            "width": null
          }
        },
        "f88c99bb2b904fbe97a73b47157ac26c": {
          "model_module": "@jupyter-widgets/controls",
          "model_name": "DescriptionStyleModel",
          "model_module_version": "1.5.0",
          "state": {
            "_model_module": "@jupyter-widgets/controls",
            "_model_module_version": "1.5.0",
            "_model_name": "DescriptionStyleModel",
            "_view_count": null,
            "_view_module": "@jupyter-widgets/base",
            "_view_module_version": "1.2.0",
            "_view_name": "StyleView",
            "description_width": ""
          }
        },
        "55908b9d759942cbb7c2f29d473e14f4": {
          "model_module": "@jupyter-widgets/controls",
          "model_name": "HBoxModel",
          "model_module_version": "1.5.0",
          "state": {
            "_dom_classes": [],
            "_model_module": "@jupyter-widgets/controls",
            "_model_module_version": "1.5.0",
            "_model_name": "HBoxModel",
            "_view_count": null,
            "_view_module": "@jupyter-widgets/controls",
            "_view_module_version": "1.5.0",
            "_view_name": "HBoxView",
            "box_style": "",
            "children": [
              "IPY_MODEL_45919d5106c34941b4bd1591f1452264",
              "IPY_MODEL_e01e3b33467c4f0d8939de6a0883d85e",
              "IPY_MODEL_7dc285d915ee4f77be640c5fec4b8b66"
            ],
            "layout": "IPY_MODEL_228ecc7560b9456faf3d4bf90b9f49a9"
          }
        },
        "45919d5106c34941b4bd1591f1452264": {
          "model_module": "@jupyter-widgets/controls",
          "model_name": "HTMLModel",
          "model_module_version": "1.5.0",
          "state": {
            "_dom_classes": [],
            "_model_module": "@jupyter-widgets/controls",
            "_model_module_version": "1.5.0",
            "_model_name": "HTMLModel",
            "_view_count": null,
            "_view_module": "@jupyter-widgets/controls",
            "_view_module_version": "1.5.0",
            "_view_name": "HTMLView",
            "description": "",
            "description_tooltip": null,
            "layout": "IPY_MODEL_2ced1e9e927e43e6bf2d3ea6ae7f84a5",
            "placeholder": "​",
            "style": "IPY_MODEL_93abf5036721482685e5240b1105b988",
            "value": "Ground truth: "
          }
        },
        "e01e3b33467c4f0d8939de6a0883d85e": {
          "model_module": "@jupyter-widgets/controls",
          "model_name": "FloatProgressModel",
          "model_module_version": "1.5.0",
          "state": {
            "_dom_classes": [],
            "_model_module": "@jupyter-widgets/controls",
            "_model_module_version": "1.5.0",
            "_model_name": "FloatProgressModel",
            "_view_count": null,
            "_view_module": "@jupyter-widgets/controls",
            "_view_module_version": "1.5.0",
            "_view_name": "ProgressView",
            "bar_style": "success",
            "description": "",
            "description_tooltip": null,
            "layout": "IPY_MODEL_a691faa0d57c436a960667c77b268f1d",
            "max": 3,
            "min": 0,
            "orientation": "horizontal",
            "style": "IPY_MODEL_ffea13c2c94246058638d815411299c9",
            "value": 3
          }
        },
        "7dc285d915ee4f77be640c5fec4b8b66": {
          "model_module": "@jupyter-widgets/controls",
          "model_name": "HTMLModel",
          "model_module_version": "1.5.0",
          "state": {
            "_dom_classes": [],
            "_model_module": "@jupyter-widgets/controls",
            "_model_module_version": "1.5.0",
            "_model_name": "HTMLModel",
            "_view_count": null,
            "_view_module": "@jupyter-widgets/controls",
            "_view_module_version": "1.5.0",
            "_view_name": "HTMLView",
            "description": "",
            "description_tooltip": null,
            "layout": "IPY_MODEL_e4a42c2b171f4a788f6e6c19ac5dffc5",
            "placeholder": "​",
            "style": "IPY_MODEL_065a429976e948a1b8a4b8917a055830",
            "value": " 6/? [00:00&lt;00:00, 204.85it/s]"
          }
        },
        "228ecc7560b9456faf3d4bf90b9f49a9": {
          "model_module": "@jupyter-widgets/base",
          "model_name": "LayoutModel",
          "model_module_version": "1.2.0",
          "state": {
            "_model_module": "@jupyter-widgets/base",
            "_model_module_version": "1.2.0",
            "_model_name": "LayoutModel",
            "_view_count": null,
            "_view_module": "@jupyter-widgets/base",
            "_view_module_version": "1.2.0",
            "_view_name": "LayoutView",
            "align_content": null,
            "align_items": null,
            "align_self": null,
            "border": null,
            "bottom": null,
            "display": null,
            "flex": null,
            "flex_flow": null,
            "grid_area": null,
            "grid_auto_columns": null,
            "grid_auto_flow": null,
            "grid_auto_rows": null,
            "grid_column": null,
            "grid_gap": null,
            "grid_row": null,
            "grid_template_areas": null,
            "grid_template_columns": null,
            "grid_template_rows": null,
            "height": null,
            "justify_content": null,
            "justify_items": null,
            "left": null,
            "margin": null,
            "max_height": null,
            "max_width": null,
            "min_height": null,
            "min_width": null,
            "object_fit": null,
            "object_position": null,
            "order": null,
            "overflow": null,
            "overflow_x": null,
            "overflow_y": null,
            "padding": null,
            "right": null,
            "top": null,
            "visibility": null,
            "width": null
          }
        },
        "2ced1e9e927e43e6bf2d3ea6ae7f84a5": {
          "model_module": "@jupyter-widgets/base",
          "model_name": "LayoutModel",
          "model_module_version": "1.2.0",
          "state": {
            "_model_module": "@jupyter-widgets/base",
            "_model_module_version": "1.2.0",
            "_model_name": "LayoutModel",
            "_view_count": null,
            "_view_module": "@jupyter-widgets/base",
            "_view_module_version": "1.2.0",
            "_view_name": "LayoutView",
            "align_content": null,
            "align_items": null,
            "align_self": null,
            "border": null,
            "bottom": null,
            "display": null,
            "flex": null,
            "flex_flow": null,
            "grid_area": null,
            "grid_auto_columns": null,
            "grid_auto_flow": null,
            "grid_auto_rows": null,
            "grid_column": null,
            "grid_gap": null,
            "grid_row": null,
            "grid_template_areas": null,
            "grid_template_columns": null,
            "grid_template_rows": null,
            "height": null,
            "justify_content": null,
            "justify_items": null,
            "left": null,
            "margin": null,
            "max_height": null,
            "max_width": null,
            "min_height": null,
            "min_width": null,
            "object_fit": null,
            "object_position": null,
            "order": null,
            "overflow": null,
            "overflow_x": null,
            "overflow_y": null,
            "padding": null,
            "right": null,
            "top": null,
            "visibility": null,
            "width": null
          }
        },
        "93abf5036721482685e5240b1105b988": {
          "model_module": "@jupyter-widgets/controls",
          "model_name": "DescriptionStyleModel",
          "model_module_version": "1.5.0",
          "state": {
            "_model_module": "@jupyter-widgets/controls",
            "_model_module_version": "1.5.0",
            "_model_name": "DescriptionStyleModel",
            "_view_count": null,
            "_view_module": "@jupyter-widgets/base",
            "_view_module_version": "1.2.0",
            "_view_name": "StyleView",
            "description_width": ""
          }
        },
        "a691faa0d57c436a960667c77b268f1d": {
          "model_module": "@jupyter-widgets/base",
          "model_name": "LayoutModel",
          "model_module_version": "1.2.0",
          "state": {
            "_model_module": "@jupyter-widgets/base",
            "_model_module_version": "1.2.0",
            "_model_name": "LayoutModel",
            "_view_count": null,
            "_view_module": "@jupyter-widgets/base",
            "_view_module_version": "1.2.0",
            "_view_name": "LayoutView",
            "align_content": null,
            "align_items": null,
            "align_self": null,
            "border": null,
            "bottom": null,
            "display": null,
            "flex": null,
            "flex_flow": null,
            "grid_area": null,
            "grid_auto_columns": null,
            "grid_auto_flow": null,
            "grid_auto_rows": null,
            "grid_column": null,
            "grid_gap": null,
            "grid_row": null,
            "grid_template_areas": null,
            "grid_template_columns": null,
            "grid_template_rows": null,
            "height": null,
            "justify_content": null,
            "justify_items": null,
            "left": null,
            "margin": null,
            "max_height": null,
            "max_width": null,
            "min_height": null,
            "min_width": null,
            "object_fit": null,
            "object_position": null,
            "order": null,
            "overflow": null,
            "overflow_x": null,
            "overflow_y": null,
            "padding": null,
            "right": null,
            "top": null,
            "visibility": null,
            "width": null
          }
        },
        "ffea13c2c94246058638d815411299c9": {
          "model_module": "@jupyter-widgets/controls",
          "model_name": "ProgressStyleModel",
          "model_module_version": "1.5.0",
          "state": {
            "_model_module": "@jupyter-widgets/controls",
            "_model_module_version": "1.5.0",
            "_model_name": "ProgressStyleModel",
            "_view_count": null,
            "_view_module": "@jupyter-widgets/base",
            "_view_module_version": "1.2.0",
            "_view_name": "StyleView",
            "bar_color": null,
            "description_width": ""
          }
        },
        "e4a42c2b171f4a788f6e6c19ac5dffc5": {
          "model_module": "@jupyter-widgets/base",
          "model_name": "LayoutModel",
          "model_module_version": "1.2.0",
          "state": {
            "_model_module": "@jupyter-widgets/base",
            "_model_module_version": "1.2.0",
            "_model_name": "LayoutModel",
            "_view_count": null,
            "_view_module": "@jupyter-widgets/base",
            "_view_module_version": "1.2.0",
            "_view_name": "LayoutView",
            "align_content": null,
            "align_items": null,
            "align_self": null,
            "border": null,
            "bottom": null,
            "display": null,
            "flex": null,
            "flex_flow": null,
            "grid_area": null,
            "grid_auto_columns": null,
            "grid_auto_flow": null,
            "grid_auto_rows": null,
            "grid_column": null,
            "grid_gap": null,
            "grid_row": null,
            "grid_template_areas": null,
            "grid_template_columns": null,
            "grid_template_rows": null,
            "height": null,
            "justify_content": null,
            "justify_items": null,
            "left": null,
            "margin": null,
            "max_height": null,
            "max_width": null,
            "min_height": null,
            "min_width": null,
            "object_fit": null,
            "object_position": null,
            "order": null,
            "overflow": null,
            "overflow_x": null,
            "overflow_y": null,
            "padding": null,
            "right": null,
            "top": null,
            "visibility": null,
            "width": null
          }
        },
        "065a429976e948a1b8a4b8917a055830": {
          "model_module": "@jupyter-widgets/controls",
          "model_name": "DescriptionStyleModel",
          "model_module_version": "1.5.0",
          "state": {
            "_model_module": "@jupyter-widgets/controls",
            "_model_module_version": "1.5.0",
            "_model_name": "DescriptionStyleModel",
            "_view_count": null,
            "_view_module": "@jupyter-widgets/base",
            "_view_module_version": "1.2.0",
            "_view_name": "StyleView",
            "description_width": ""
          }
        }
      }
    }
  },
  "nbformat": 4,
  "nbformat_minor": 5
}